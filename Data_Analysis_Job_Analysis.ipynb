{
  "nbformat": 4,
  "nbformat_minor": 0,
  "metadata": {
    "colab": {
      "provenance": [],
      "authorship_tag": "ABX9TyOwpIXvA1h9lt/E4E/DZKw4",
      "include_colab_link": true
    },
    "kernelspec": {
      "name": "python3",
      "display_name": "Python 3"
    },
    "language_info": {
      "name": "python"
    }
  },
  "cells": [
    {
      "cell_type": "markdown",
      "metadata": {
        "id": "view-in-github",
        "colab_type": "text"
      },
      "source": [
        "<a href=\"https://colab.research.google.com/github/Bhavu211/Data_Science/blob/main/Data_Analysis_Job_Analysis.ipynb\" target=\"_parent\"><img src=\"https://colab.research.google.com/assets/colab-badge.svg\" alt=\"Open In Colab\"/></a>"
      ]
    },
    {
      "cell_type": "markdown",
      "source": [
        "Skill Requirements based on Jobs\n",
        "What are the skills that are needed for almost all the jobs\n",
        "What are the most important skills for a Data Analyst\n",
        "What are the most important skills to ge thired in HDFC Bank\n",
        "Years of Exp vs Requirements"
      ],
      "metadata": {
        "id": "1EG4Y3rvxqwx"
      }
    },
    {
      "cell_type": "code",
      "execution_count": 3,
      "metadata": {
        "colab": {
          "base_uri": "https://localhost:8080/"
        },
        "id": "p6S7IFqsxjP8",
        "outputId": "7dde0f9c-e6a8-4f30-d371-d76d038fd0ba"
      },
      "outputs": [
        {
          "output_type": "stream",
          "name": "stdout",
          "text": [
            "Cloning into 'datasets'...\n",
            "remote: Enumerating objects: 328, done.\u001b[K\n",
            "remote: Counting objects: 100% (93/93), done.\u001b[K\n",
            "remote: Compressing objects: 100% (83/83), done.\u001b[K\n",
            "remote: Total 328 (delta 19), reused 54 (delta 9), pack-reused 235 (from 1)\u001b[K\n",
            "Receiving objects: 100% (328/328), 278.62 MiB | 17.22 MiB/s, done.\n",
            "Resolving deltas: 100% (145/145), done.\n",
            "Updating files: 100% (225/225), done.\n"
          ]
        }
      ],
      "source": [
        "!git clone https://github.com/AshishJangra27/datasets"
      ]
    },
    {
      "cell_type": "code",
      "source": [
        "import pandas as pd\n",
        "df = pd.read_csv('/content/datasets/Job Postings/jobs.csv.zip')\n",
        "\n",
        "df.head()"
      ],
      "metadata": {
        "colab": {
          "base_uri": "https://localhost:8080/",
          "height": 538
        },
        "id": "t9y1beDhyQIH",
        "outputId": "6e124845-da59-49aa-bb4f-fb18c86abbd2"
      },
      "execution_count": 4,
      "outputs": [
        {
          "output_type": "execute_result",
          "data": {
            "text/plain": [
              "         job_id                                           job_role    company  \\\n",
              "0  7.012301e+10      Branch Banking - Calling For Women Candidates  Hdfc Bank   \n",
              "1  6.012391e+10                       Product Owner Senior Manager  Accenture   \n",
              "2  6.012391e+10  Employee Relations and Policies Associate Manager  Accenture   \n",
              "3  6.012391e+10         Employee Relations and Policies Specialist  Accenture   \n",
              "4  6.012301e+10                                  SAP BO Consultant   Mindtree   \n",
              "\n",
              "  experience         salary  \\\n",
              "0    1-6 Yrs  Not disclosed   \n",
              "1  11-15 Yrs  Not disclosed   \n",
              "2    3-7 Yrs  Not disclosed   \n",
              "3    3-7 Yrs  Not disclosed   \n",
              "4    5-7 Yrs  Not disclosed   \n",
              "\n",
              "                                            location  rating        reviews  \\\n",
              "0  Kolkata, Hyderabad/Secunderabad, Pune, Ahmedab...     4.0  39110 Reviews   \n",
              "1  Kolkata, Mumbai, Hyderabad/Secunderabad, Pune,...     4.1  32129 Reviews   \n",
              "2  Kolkata, Mumbai, Hyderabad/Secunderabad, Pune,...     4.1  32129 Reviews   \n",
              "3  Kolkata, Mumbai, Hyderabad/Secunderabad, Pune,...     4.1  32129 Reviews   \n",
              "4  Hybrid - Kolkata, Hyderabad/Secunderabad, Pune...     4.1   3759 Reviews   \n",
              "\n",
              "                                     resposibilities  posted_on  \\\n",
              "0     Customer Service,Sales,Relationship Management  1 Day Ago   \n",
              "1  Product management,Market analysis,Change mana...  1 Day Ago   \n",
              "2  Business process,Change management,Team manage...  1 Day Ago   \n",
              "3  Business process,Change management,Team manage...  1 Day Ago   \n",
              "4  SAP BO,PL / SQL,Oracle SQL,SAP Business Object...  1 Day Ago   \n",
              "\n",
              "                                            job_link  \\\n",
              "0  https://www.naukri.com/job-listings-branch-ban...   \n",
              "1  https://www.naukri.com/job-listings-product-ow...   \n",
              "2  https://www.naukri.com/job-listings-employee-r...   \n",
              "3  https://www.naukri.com/job-listings-employee-r...   \n",
              "4  https://www.naukri.com/job-listings-sap-bo-con...   \n",
              "\n",
              "                                        company_link  \n",
              "0  https://www.naukri.com/hdfc-bank-jobs-careers-213  \n",
              "1  https://www.naukri.com/accenture-jobs-careers-...  \n",
              "2  https://www.naukri.com/accenture-jobs-careers-...  \n",
              "3  https://www.naukri.com/accenture-jobs-careers-...  \n",
              "4  https://www.naukri.com/mindtree-jobs-careers-3...  "
            ],
            "text/html": [
              "\n",
              "  <div id=\"df-e1e0244d-a24c-4c01-bbbe-65ee7fdc3cc4\" class=\"colab-df-container\">\n",
              "    <div>\n",
              "<style scoped>\n",
              "    .dataframe tbody tr th:only-of-type {\n",
              "        vertical-align: middle;\n",
              "    }\n",
              "\n",
              "    .dataframe tbody tr th {\n",
              "        vertical-align: top;\n",
              "    }\n",
              "\n",
              "    .dataframe thead th {\n",
              "        text-align: right;\n",
              "    }\n",
              "</style>\n",
              "<table border=\"1\" class=\"dataframe\">\n",
              "  <thead>\n",
              "    <tr style=\"text-align: right;\">\n",
              "      <th></th>\n",
              "      <th>job_id</th>\n",
              "      <th>job_role</th>\n",
              "      <th>company</th>\n",
              "      <th>experience</th>\n",
              "      <th>salary</th>\n",
              "      <th>location</th>\n",
              "      <th>rating</th>\n",
              "      <th>reviews</th>\n",
              "      <th>resposibilities</th>\n",
              "      <th>posted_on</th>\n",
              "      <th>job_link</th>\n",
              "      <th>company_link</th>\n",
              "    </tr>\n",
              "  </thead>\n",
              "  <tbody>\n",
              "    <tr>\n",
              "      <th>0</th>\n",
              "      <td>7.012301e+10</td>\n",
              "      <td>Branch Banking - Calling For Women Candidates</td>\n",
              "      <td>Hdfc Bank</td>\n",
              "      <td>1-6 Yrs</td>\n",
              "      <td>Not disclosed</td>\n",
              "      <td>Kolkata, Hyderabad/Secunderabad, Pune, Ahmedab...</td>\n",
              "      <td>4.0</td>\n",
              "      <td>39110 Reviews</td>\n",
              "      <td>Customer Service,Sales,Relationship Management</td>\n",
              "      <td>1 Day Ago</td>\n",
              "      <td>https://www.naukri.com/job-listings-branch-ban...</td>\n",
              "      <td>https://www.naukri.com/hdfc-bank-jobs-careers-213</td>\n",
              "    </tr>\n",
              "    <tr>\n",
              "      <th>1</th>\n",
              "      <td>6.012391e+10</td>\n",
              "      <td>Product Owner Senior Manager</td>\n",
              "      <td>Accenture</td>\n",
              "      <td>11-15 Yrs</td>\n",
              "      <td>Not disclosed</td>\n",
              "      <td>Kolkata, Mumbai, Hyderabad/Secunderabad, Pune,...</td>\n",
              "      <td>4.1</td>\n",
              "      <td>32129 Reviews</td>\n",
              "      <td>Product management,Market analysis,Change mana...</td>\n",
              "      <td>1 Day Ago</td>\n",
              "      <td>https://www.naukri.com/job-listings-product-ow...</td>\n",
              "      <td>https://www.naukri.com/accenture-jobs-careers-...</td>\n",
              "    </tr>\n",
              "    <tr>\n",
              "      <th>2</th>\n",
              "      <td>6.012391e+10</td>\n",
              "      <td>Employee Relations and Policies Associate Manager</td>\n",
              "      <td>Accenture</td>\n",
              "      <td>3-7 Yrs</td>\n",
              "      <td>Not disclosed</td>\n",
              "      <td>Kolkata, Mumbai, Hyderabad/Secunderabad, Pune,...</td>\n",
              "      <td>4.1</td>\n",
              "      <td>32129 Reviews</td>\n",
              "      <td>Business process,Change management,Team manage...</td>\n",
              "      <td>1 Day Ago</td>\n",
              "      <td>https://www.naukri.com/job-listings-employee-r...</td>\n",
              "      <td>https://www.naukri.com/accenture-jobs-careers-...</td>\n",
              "    </tr>\n",
              "    <tr>\n",
              "      <th>3</th>\n",
              "      <td>6.012391e+10</td>\n",
              "      <td>Employee Relations and Policies Specialist</td>\n",
              "      <td>Accenture</td>\n",
              "      <td>3-7 Yrs</td>\n",
              "      <td>Not disclosed</td>\n",
              "      <td>Kolkata, Mumbai, Hyderabad/Secunderabad, Pune,...</td>\n",
              "      <td>4.1</td>\n",
              "      <td>32129 Reviews</td>\n",
              "      <td>Business process,Change management,Team manage...</td>\n",
              "      <td>1 Day Ago</td>\n",
              "      <td>https://www.naukri.com/job-listings-employee-r...</td>\n",
              "      <td>https://www.naukri.com/accenture-jobs-careers-...</td>\n",
              "    </tr>\n",
              "    <tr>\n",
              "      <th>4</th>\n",
              "      <td>6.012301e+10</td>\n",
              "      <td>SAP BO Consultant</td>\n",
              "      <td>Mindtree</td>\n",
              "      <td>5-7 Yrs</td>\n",
              "      <td>Not disclosed</td>\n",
              "      <td>Hybrid - Kolkata, Hyderabad/Secunderabad, Pune...</td>\n",
              "      <td>4.1</td>\n",
              "      <td>3759 Reviews</td>\n",
              "      <td>SAP BO,PL / SQL,Oracle SQL,SAP Business Object...</td>\n",
              "      <td>1 Day Ago</td>\n",
              "      <td>https://www.naukri.com/job-listings-sap-bo-con...</td>\n",
              "      <td>https://www.naukri.com/mindtree-jobs-careers-3...</td>\n",
              "    </tr>\n",
              "  </tbody>\n",
              "</table>\n",
              "</div>\n",
              "    <div class=\"colab-df-buttons\">\n",
              "\n",
              "  <div class=\"colab-df-container\">\n",
              "    <button class=\"colab-df-convert\" onclick=\"convertToInteractive('df-e1e0244d-a24c-4c01-bbbe-65ee7fdc3cc4')\"\n",
              "            title=\"Convert this dataframe to an interactive table.\"\n",
              "            style=\"display:none;\">\n",
              "\n",
              "  <svg xmlns=\"http://www.w3.org/2000/svg\" height=\"24px\" viewBox=\"0 -960 960 960\">\n",
              "    <path d=\"M120-120v-720h720v720H120Zm60-500h600v-160H180v160Zm220 220h160v-160H400v160Zm0 220h160v-160H400v160ZM180-400h160v-160H180v160Zm440 0h160v-160H620v160ZM180-180h160v-160H180v160Zm440 0h160v-160H620v160Z\"/>\n",
              "  </svg>\n",
              "    </button>\n",
              "\n",
              "  <style>\n",
              "    .colab-df-container {\n",
              "      display:flex;\n",
              "      gap: 12px;\n",
              "    }\n",
              "\n",
              "    .colab-df-convert {\n",
              "      background-color: #E8F0FE;\n",
              "      border: none;\n",
              "      border-radius: 50%;\n",
              "      cursor: pointer;\n",
              "      display: none;\n",
              "      fill: #1967D2;\n",
              "      height: 32px;\n",
              "      padding: 0 0 0 0;\n",
              "      width: 32px;\n",
              "    }\n",
              "\n",
              "    .colab-df-convert:hover {\n",
              "      background-color: #E2EBFA;\n",
              "      box-shadow: 0px 1px 2px rgba(60, 64, 67, 0.3), 0px 1px 3px 1px rgba(60, 64, 67, 0.15);\n",
              "      fill: #174EA6;\n",
              "    }\n",
              "\n",
              "    .colab-df-buttons div {\n",
              "      margin-bottom: 4px;\n",
              "    }\n",
              "\n",
              "    [theme=dark] .colab-df-convert {\n",
              "      background-color: #3B4455;\n",
              "      fill: #D2E3FC;\n",
              "    }\n",
              "\n",
              "    [theme=dark] .colab-df-convert:hover {\n",
              "      background-color: #434B5C;\n",
              "      box-shadow: 0px 1px 3px 1px rgba(0, 0, 0, 0.15);\n",
              "      filter: drop-shadow(0px 1px 2px rgba(0, 0, 0, 0.3));\n",
              "      fill: #FFFFFF;\n",
              "    }\n",
              "  </style>\n",
              "\n",
              "    <script>\n",
              "      const buttonEl =\n",
              "        document.querySelector('#df-e1e0244d-a24c-4c01-bbbe-65ee7fdc3cc4 button.colab-df-convert');\n",
              "      buttonEl.style.display =\n",
              "        google.colab.kernel.accessAllowed ? 'block' : 'none';\n",
              "\n",
              "      async function convertToInteractive(key) {\n",
              "        const element = document.querySelector('#df-e1e0244d-a24c-4c01-bbbe-65ee7fdc3cc4');\n",
              "        const dataTable =\n",
              "          await google.colab.kernel.invokeFunction('convertToInteractive',\n",
              "                                                    [key], {});\n",
              "        if (!dataTable) return;\n",
              "\n",
              "        const docLinkHtml = 'Like what you see? Visit the ' +\n",
              "          '<a target=\"_blank\" href=https://colab.research.google.com/notebooks/data_table.ipynb>data table notebook</a>'\n",
              "          + ' to learn more about interactive tables.';\n",
              "        element.innerHTML = '';\n",
              "        dataTable['output_type'] = 'display_data';\n",
              "        await google.colab.output.renderOutput(dataTable, element);\n",
              "        const docLink = document.createElement('div');\n",
              "        docLink.innerHTML = docLinkHtml;\n",
              "        element.appendChild(docLink);\n",
              "      }\n",
              "    </script>\n",
              "  </div>\n",
              "\n",
              "\n",
              "    <div id=\"df-502a8a45-2761-4052-aa5c-b39b35fbabfe\">\n",
              "      <button class=\"colab-df-quickchart\" onclick=\"quickchart('df-502a8a45-2761-4052-aa5c-b39b35fbabfe')\"\n",
              "                title=\"Suggest charts\"\n",
              "                style=\"display:none;\">\n",
              "\n",
              "<svg xmlns=\"http://www.w3.org/2000/svg\" height=\"24px\"viewBox=\"0 0 24 24\"\n",
              "     width=\"24px\">\n",
              "    <g>\n",
              "        <path d=\"M19 3H5c-1.1 0-2 .9-2 2v14c0 1.1.9 2 2 2h14c1.1 0 2-.9 2-2V5c0-1.1-.9-2-2-2zM9 17H7v-7h2v7zm4 0h-2V7h2v10zm4 0h-2v-4h2v4z\"/>\n",
              "    </g>\n",
              "</svg>\n",
              "      </button>\n",
              "\n",
              "<style>\n",
              "  .colab-df-quickchart {\n",
              "      --bg-color: #E8F0FE;\n",
              "      --fill-color: #1967D2;\n",
              "      --hover-bg-color: #E2EBFA;\n",
              "      --hover-fill-color: #174EA6;\n",
              "      --disabled-fill-color: #AAA;\n",
              "      --disabled-bg-color: #DDD;\n",
              "  }\n",
              "\n",
              "  [theme=dark] .colab-df-quickchart {\n",
              "      --bg-color: #3B4455;\n",
              "      --fill-color: #D2E3FC;\n",
              "      --hover-bg-color: #434B5C;\n",
              "      --hover-fill-color: #FFFFFF;\n",
              "      --disabled-bg-color: #3B4455;\n",
              "      --disabled-fill-color: #666;\n",
              "  }\n",
              "\n",
              "  .colab-df-quickchart {\n",
              "    background-color: var(--bg-color);\n",
              "    border: none;\n",
              "    border-radius: 50%;\n",
              "    cursor: pointer;\n",
              "    display: none;\n",
              "    fill: var(--fill-color);\n",
              "    height: 32px;\n",
              "    padding: 0;\n",
              "    width: 32px;\n",
              "  }\n",
              "\n",
              "  .colab-df-quickchart:hover {\n",
              "    background-color: var(--hover-bg-color);\n",
              "    box-shadow: 0 1px 2px rgba(60, 64, 67, 0.3), 0 1px 3px 1px rgba(60, 64, 67, 0.15);\n",
              "    fill: var(--button-hover-fill-color);\n",
              "  }\n",
              "\n",
              "  .colab-df-quickchart-complete:disabled,\n",
              "  .colab-df-quickchart-complete:disabled:hover {\n",
              "    background-color: var(--disabled-bg-color);\n",
              "    fill: var(--disabled-fill-color);\n",
              "    box-shadow: none;\n",
              "  }\n",
              "\n",
              "  .colab-df-spinner {\n",
              "    border: 2px solid var(--fill-color);\n",
              "    border-color: transparent;\n",
              "    border-bottom-color: var(--fill-color);\n",
              "    animation:\n",
              "      spin 1s steps(1) infinite;\n",
              "  }\n",
              "\n",
              "  @keyframes spin {\n",
              "    0% {\n",
              "      border-color: transparent;\n",
              "      border-bottom-color: var(--fill-color);\n",
              "      border-left-color: var(--fill-color);\n",
              "    }\n",
              "    20% {\n",
              "      border-color: transparent;\n",
              "      border-left-color: var(--fill-color);\n",
              "      border-top-color: var(--fill-color);\n",
              "    }\n",
              "    30% {\n",
              "      border-color: transparent;\n",
              "      border-left-color: var(--fill-color);\n",
              "      border-top-color: var(--fill-color);\n",
              "      border-right-color: var(--fill-color);\n",
              "    }\n",
              "    40% {\n",
              "      border-color: transparent;\n",
              "      border-right-color: var(--fill-color);\n",
              "      border-top-color: var(--fill-color);\n",
              "    }\n",
              "    60% {\n",
              "      border-color: transparent;\n",
              "      border-right-color: var(--fill-color);\n",
              "    }\n",
              "    80% {\n",
              "      border-color: transparent;\n",
              "      border-right-color: var(--fill-color);\n",
              "      border-bottom-color: var(--fill-color);\n",
              "    }\n",
              "    90% {\n",
              "      border-color: transparent;\n",
              "      border-bottom-color: var(--fill-color);\n",
              "    }\n",
              "  }\n",
              "</style>\n",
              "\n",
              "      <script>\n",
              "        async function quickchart(key) {\n",
              "          const quickchartButtonEl =\n",
              "            document.querySelector('#' + key + ' button');\n",
              "          quickchartButtonEl.disabled = true;  // To prevent multiple clicks.\n",
              "          quickchartButtonEl.classList.add('colab-df-spinner');\n",
              "          try {\n",
              "            const charts = await google.colab.kernel.invokeFunction(\n",
              "                'suggestCharts', [key], {});\n",
              "          } catch (error) {\n",
              "            console.error('Error during call to suggestCharts:', error);\n",
              "          }\n",
              "          quickchartButtonEl.classList.remove('colab-df-spinner');\n",
              "          quickchartButtonEl.classList.add('colab-df-quickchart-complete');\n",
              "        }\n",
              "        (() => {\n",
              "          let quickchartButtonEl =\n",
              "            document.querySelector('#df-502a8a45-2761-4052-aa5c-b39b35fbabfe button');\n",
              "          quickchartButtonEl.style.display =\n",
              "            google.colab.kernel.accessAllowed ? 'block' : 'none';\n",
              "        })();\n",
              "      </script>\n",
              "    </div>\n",
              "\n",
              "    </div>\n",
              "  </div>\n"
            ],
            "application/vnd.google.colaboratory.intrinsic+json": {
              "type": "dataframe",
              "variable_name": "df",
              "summary": "{\n  \"name\": \"df\",\n  \"rows\": 79147,\n  \"fields\": [\n    {\n      \"column\": \"job_id\",\n      \"properties\": {\n        \"dtype\": \"number\",\n        \"std\": 109746366353.32597,\n        \"min\": 10122000503.0,\n        \"max\": 311222904900.0,\n        \"num_unique_values\": 73009,\n        \"samples\": [\n          20123000806.0,\n          291222007132.0,\n          70123500585.0\n        ],\n        \"semantic_type\": \"\",\n        \"description\": \"\"\n      }\n    },\n    {\n      \"column\": \"job_role\",\n      \"properties\": {\n        \"dtype\": \"string\",\n        \"num_unique_values\": 51050,\n        \"samples\": [\n          \"Web Administrator\",\n          \"Audio framework Engineer\",\n          \"TEKsystems #Hiring # SAP SD Consultant\"\n        ],\n        \"semantic_type\": \"\",\n        \"description\": \"\"\n      }\n    },\n    {\n      \"column\": \"company\",\n      \"properties\": {\n        \"dtype\": \"category\",\n        \"num_unique_values\": 15313,\n        \"samples\": [\n          \"Transglobe Iskcon India\",\n          \"Vrecroot\",\n          \"Leaptest\"\n        ],\n        \"semantic_type\": \"\",\n        \"description\": \"\"\n      }\n    },\n    {\n      \"column\": \"experience\",\n      \"properties\": {\n        \"dtype\": \"category\",\n        \"num_unique_values\": 231,\n        \"samples\": [\n          \"16-19 Yrs\",\n          \"10-12 Yrs\",\n          \"3-8 Yrs\"\n        ],\n        \"semantic_type\": \"\",\n        \"description\": \"\"\n      }\n    },\n    {\n      \"column\": \"salary\",\n      \"properties\": {\n        \"dtype\": \"category\",\n        \"num_unique_values\": 813,\n        \"samples\": [\n          \"14,00,000 - 22,50,000 PA.\",\n          \"55,00,000 - 65,00,000 PA.\",\n          \"2,00,000 - 4,75,000 PA.\"\n        ],\n        \"semantic_type\": \"\",\n        \"description\": \"\"\n      }\n    },\n    {\n      \"column\": \"location\",\n      \"properties\": {\n        \"dtype\": \"category\",\n        \"num_unique_values\": 9038,\n        \"samples\": [\n          \"Temp. WFH - Chennai\",\n          \"Vapi, Dadra & Nagar Haveli/Silvassa\",\n          \"New Delhi(Safdarjung Enclave), Delhi / NCR\"\n        ],\n        \"semantic_type\": \"\",\n        \"description\": \"\"\n      }\n    },\n    {\n      \"column\": \"rating\",\n      \"properties\": {\n        \"dtype\": \"number\",\n        \"std\": 0.5192110664985025,\n        \"min\": 1.0,\n        \"max\": 5.0,\n        \"num_unique_values\": 41,\n        \"samples\": [\n          2.2,\n          3.4,\n          4.4\n        ],\n        \"semantic_type\": \"\",\n        \"description\": \"\"\n      }\n    },\n    {\n      \"column\": \"reviews\",\n      \"properties\": {\n        \"dtype\": \"category\",\n        \"num_unique_values\": 980,\n        \"samples\": [\n          \"942 Reviews\",\n          \"867 Reviews\",\n          \"28172 Reviews\"\n        ],\n        \"semantic_type\": \"\",\n        \"description\": \"\"\n      }\n    },\n    {\n      \"column\": \"resposibilities\",\n      \"properties\": {\n        \"dtype\": \"string\",\n        \"num_unique_values\": 61911,\n        \"samples\": [\n          \".net core,aws,React.Js\",\n          \"Test Engineering,JIRA,Confluence,Analytical,JCL,SDLC,Communication,LMS\",\n          \"Team Management,Reporting,Presentation,account management,Market Research,Business Strategy,Swot Analysis,research\"\n        ],\n        \"semantic_type\": \"\",\n        \"description\": \"\"\n      }\n    },\n    {\n      \"column\": \"posted_on\",\n      \"properties\": {\n        \"dtype\": \"category\",\n        \"num_unique_values\": 26,\n        \"samples\": [\n          \"6 Days Ago\",\n          \"Just Now\",\n          \"1 Day Ago\"\n        ],\n        \"semantic_type\": \"\",\n        \"description\": \"\"\n      }\n    },\n    {\n      \"column\": \"job_link\",\n      \"properties\": {\n        \"dtype\": \"string\",\n        \"num_unique_values\": 73009,\n        \"samples\": [\n          \"https://www.naukri.com/job-listings-medical-coding-for-18-22-passout-microbiology-zoology-adv-zoo-grad-alpha-medical-coding-solutions-pondicherry-puducherry-chennai-tiruchirapalli-trichy-0-to-4-years-020123000806\",\n          \"https://www.naukri.com/job-listings-admission-counsellor-atz-properties-bangalore-bengaluru-1-to-3-years-291222007132\",\n          \"https://www.naukri.com/job-listings-hygiene-care-consultant-sr-hygiene-care-consultant-skillety-noida-kochi-cochin-kolkata-mumbai-chandigarh-hyderabad-secunderabad-pune-chennai-ahmedabad-bangalore-bengaluru-2-to-7-years-070123500585\"\n        ],\n        \"semantic_type\": \"\",\n        \"description\": \"\"\n      }\n    },\n    {\n      \"column\": \"company_link\",\n      \"properties\": {\n        \"dtype\": \"category\",\n        \"num_unique_values\": 13845,\n        \"samples\": [\n          \"https://www.naukri.com/modify-digital-jobs-careers-3717488\",\n          \"https://www.naukri.com/fg-glass-jobs-careers-4624134\",\n          \"https://www.naukri.com/n-solutions-jobs-careers-594659\"\n        ],\n        \"semantic_type\": \"\",\n        \"description\": \"\"\n      }\n    }\n  ]\n}"
            }
          },
          "metadata": {},
          "execution_count": 4
        }
      ]
    },
    {
      "cell_type": "markdown",
      "source": [
        "**1. Data Exploration**"
      ],
      "metadata": {
        "id": "DXLsH21XyTf0"
      }
    },
    {
      "cell_type": "markdown",
      "source": [
        "\n",
        "1.1 Remove Un-necessery Columns"
      ],
      "metadata": {
        "id": "JdAhmByOyZM7"
      }
    },
    {
      "cell_type": "code",
      "source": [
        "df = df.drop(columns=['rating','reviews','posted_on','job_link','company_link'])"
      ],
      "metadata": {
        "id": "fZEk3DOjyb7R"
      },
      "execution_count": 5,
      "outputs": []
    },
    {
      "cell_type": "markdown",
      "source": [
        "1.2 Checking & Removing Null Values"
      ],
      "metadata": {
        "id": "iXkzr8RTyi2Q"
      }
    },
    {
      "cell_type": "code",
      "source": [
        "df = df.dropna(subset = ['job_id','company','resposibilities'])\n"
      ],
      "metadata": {
        "id": "kGAmNx9Wyll-"
      },
      "execution_count": 7,
      "outputs": []
    },
    {
      "cell_type": "markdown",
      "source": [
        "1.3 Checking Duplicate Values"
      ],
      "metadata": {
        "id": "2Q6APjMkyzNg"
      }
    },
    {
      "cell_type": "code",
      "source": [
        "df.drop_duplicates(subset = 'job_id', inplace = True)"
      ],
      "metadata": {
        "id": "Kxq6o3BKy2mw"
      },
      "execution_count": 8,
      "outputs": []
    },
    {
      "cell_type": "markdown",
      "source": [
        "1.4 Explore individual columns"
      ],
      "metadata": {
        "id": "7SMaKxIGy71_"
      }
    },
    {
      "cell_type": "markdown",
      "source": [
        "**2. Data Cleaning**"
      ],
      "metadata": {
        "id": "bdeFMgsmzDSY"
      }
    },
    {
      "cell_type": "markdown",
      "source": [
        "2.1 Typecast job_id"
      ],
      "metadata": {
        "id": "57kyayKezF0Y"
      }
    },
    {
      "cell_type": "code",
      "source": [
        "df['job_id'] = df['job_id'].astype(int)"
      ],
      "metadata": {
        "id": "R0-XXi_dzIMq"
      },
      "execution_count": 10,
      "outputs": []
    },
    {
      "cell_type": "markdown",
      "source": [
        "2.2 Clean Experince Column"
      ],
      "metadata": {
        "id": "3RkHr6bxzMOm"
      }
    },
    {
      "cell_type": "code",
      "source": [
        "df['min_exp'] = df['experience'].str.replace(' Yrs','').str.split('-').str[0].astype(int)\n",
        "df['max_exp'] = df['experience'].str.replace(' Yrs','').str.split('-').str[1].astype(int)"
      ],
      "metadata": {
        "id": "VGbOXbHOzOXj"
      },
      "execution_count": 11,
      "outputs": []
    },
    {
      "cell_type": "markdown",
      "source": [],
      "metadata": {
        "id": "w8ilRaoCzVc7"
      }
    },
    {
      "cell_type": "code",
      "source": [
        "df.head()"
      ],
      "metadata": {
        "colab": {
          "base_uri": "https://localhost:8080/",
          "height": 538
        },
        "id": "Uv3-R4Jey8vP",
        "outputId": "2655c09d-9801-47eb-d249-308fcec5b97c"
      },
      "execution_count": 9,
      "outputs": [
        {
          "output_type": "execute_result",
          "data": {
            "text/plain": [
              "         job_id                                           job_role    company  \\\n",
              "0  7.012301e+10      Branch Banking - Calling For Women Candidates  Hdfc Bank   \n",
              "1  6.012391e+10                       Product Owner Senior Manager  Accenture   \n",
              "2  6.012391e+10  Employee Relations and Policies Associate Manager  Accenture   \n",
              "3  6.012391e+10         Employee Relations and Policies Specialist  Accenture   \n",
              "4  6.012301e+10                                  SAP BO Consultant   Mindtree   \n",
              "\n",
              "  experience         salary  \\\n",
              "0    1-6 Yrs  Not disclosed   \n",
              "1  11-15 Yrs  Not disclosed   \n",
              "2    3-7 Yrs  Not disclosed   \n",
              "3    3-7 Yrs  Not disclosed   \n",
              "4    5-7 Yrs  Not disclosed   \n",
              "\n",
              "                                            location  \\\n",
              "0  Kolkata, Hyderabad/Secunderabad, Pune, Ahmedab...   \n",
              "1  Kolkata, Mumbai, Hyderabad/Secunderabad, Pune,...   \n",
              "2  Kolkata, Mumbai, Hyderabad/Secunderabad, Pune,...   \n",
              "3  Kolkata, Mumbai, Hyderabad/Secunderabad, Pune,...   \n",
              "4  Hybrid - Kolkata, Hyderabad/Secunderabad, Pune...   \n",
              "\n",
              "                                     resposibilities  \n",
              "0     Customer Service,Sales,Relationship Management  \n",
              "1  Product management,Market analysis,Change mana...  \n",
              "2  Business process,Change management,Team manage...  \n",
              "3  Business process,Change management,Team manage...  \n",
              "4  SAP BO,PL / SQL,Oracle SQL,SAP Business Object...  "
            ],
            "text/html": [
              "\n",
              "  <div id=\"df-a783bdc5-9102-48b7-be57-20099b266cb2\" class=\"colab-df-container\">\n",
              "    <div>\n",
              "<style scoped>\n",
              "    .dataframe tbody tr th:only-of-type {\n",
              "        vertical-align: middle;\n",
              "    }\n",
              "\n",
              "    .dataframe tbody tr th {\n",
              "        vertical-align: top;\n",
              "    }\n",
              "\n",
              "    .dataframe thead th {\n",
              "        text-align: right;\n",
              "    }\n",
              "</style>\n",
              "<table border=\"1\" class=\"dataframe\">\n",
              "  <thead>\n",
              "    <tr style=\"text-align: right;\">\n",
              "      <th></th>\n",
              "      <th>job_id</th>\n",
              "      <th>job_role</th>\n",
              "      <th>company</th>\n",
              "      <th>experience</th>\n",
              "      <th>salary</th>\n",
              "      <th>location</th>\n",
              "      <th>resposibilities</th>\n",
              "    </tr>\n",
              "  </thead>\n",
              "  <tbody>\n",
              "    <tr>\n",
              "      <th>0</th>\n",
              "      <td>7.012301e+10</td>\n",
              "      <td>Branch Banking - Calling For Women Candidates</td>\n",
              "      <td>Hdfc Bank</td>\n",
              "      <td>1-6 Yrs</td>\n",
              "      <td>Not disclosed</td>\n",
              "      <td>Kolkata, Hyderabad/Secunderabad, Pune, Ahmedab...</td>\n",
              "      <td>Customer Service,Sales,Relationship Management</td>\n",
              "    </tr>\n",
              "    <tr>\n",
              "      <th>1</th>\n",
              "      <td>6.012391e+10</td>\n",
              "      <td>Product Owner Senior Manager</td>\n",
              "      <td>Accenture</td>\n",
              "      <td>11-15 Yrs</td>\n",
              "      <td>Not disclosed</td>\n",
              "      <td>Kolkata, Mumbai, Hyderabad/Secunderabad, Pune,...</td>\n",
              "      <td>Product management,Market analysis,Change mana...</td>\n",
              "    </tr>\n",
              "    <tr>\n",
              "      <th>2</th>\n",
              "      <td>6.012391e+10</td>\n",
              "      <td>Employee Relations and Policies Associate Manager</td>\n",
              "      <td>Accenture</td>\n",
              "      <td>3-7 Yrs</td>\n",
              "      <td>Not disclosed</td>\n",
              "      <td>Kolkata, Mumbai, Hyderabad/Secunderabad, Pune,...</td>\n",
              "      <td>Business process,Change management,Team manage...</td>\n",
              "    </tr>\n",
              "    <tr>\n",
              "      <th>3</th>\n",
              "      <td>6.012391e+10</td>\n",
              "      <td>Employee Relations and Policies Specialist</td>\n",
              "      <td>Accenture</td>\n",
              "      <td>3-7 Yrs</td>\n",
              "      <td>Not disclosed</td>\n",
              "      <td>Kolkata, Mumbai, Hyderabad/Secunderabad, Pune,...</td>\n",
              "      <td>Business process,Change management,Team manage...</td>\n",
              "    </tr>\n",
              "    <tr>\n",
              "      <th>4</th>\n",
              "      <td>6.012301e+10</td>\n",
              "      <td>SAP BO Consultant</td>\n",
              "      <td>Mindtree</td>\n",
              "      <td>5-7 Yrs</td>\n",
              "      <td>Not disclosed</td>\n",
              "      <td>Hybrid - Kolkata, Hyderabad/Secunderabad, Pune...</td>\n",
              "      <td>SAP BO,PL / SQL,Oracle SQL,SAP Business Object...</td>\n",
              "    </tr>\n",
              "  </tbody>\n",
              "</table>\n",
              "</div>\n",
              "    <div class=\"colab-df-buttons\">\n",
              "\n",
              "  <div class=\"colab-df-container\">\n",
              "    <button class=\"colab-df-convert\" onclick=\"convertToInteractive('df-a783bdc5-9102-48b7-be57-20099b266cb2')\"\n",
              "            title=\"Convert this dataframe to an interactive table.\"\n",
              "            style=\"display:none;\">\n",
              "\n",
              "  <svg xmlns=\"http://www.w3.org/2000/svg\" height=\"24px\" viewBox=\"0 -960 960 960\">\n",
              "    <path d=\"M120-120v-720h720v720H120Zm60-500h600v-160H180v160Zm220 220h160v-160H400v160Zm0 220h160v-160H400v160ZM180-400h160v-160H180v160Zm440 0h160v-160H620v160ZM180-180h160v-160H180v160Zm440 0h160v-160H620v160Z\"/>\n",
              "  </svg>\n",
              "    </button>\n",
              "\n",
              "  <style>\n",
              "    .colab-df-container {\n",
              "      display:flex;\n",
              "      gap: 12px;\n",
              "    }\n",
              "\n",
              "    .colab-df-convert {\n",
              "      background-color: #E8F0FE;\n",
              "      border: none;\n",
              "      border-radius: 50%;\n",
              "      cursor: pointer;\n",
              "      display: none;\n",
              "      fill: #1967D2;\n",
              "      height: 32px;\n",
              "      padding: 0 0 0 0;\n",
              "      width: 32px;\n",
              "    }\n",
              "\n",
              "    .colab-df-convert:hover {\n",
              "      background-color: #E2EBFA;\n",
              "      box-shadow: 0px 1px 2px rgba(60, 64, 67, 0.3), 0px 1px 3px 1px rgba(60, 64, 67, 0.15);\n",
              "      fill: #174EA6;\n",
              "    }\n",
              "\n",
              "    .colab-df-buttons div {\n",
              "      margin-bottom: 4px;\n",
              "    }\n",
              "\n",
              "    [theme=dark] .colab-df-convert {\n",
              "      background-color: #3B4455;\n",
              "      fill: #D2E3FC;\n",
              "    }\n",
              "\n",
              "    [theme=dark] .colab-df-convert:hover {\n",
              "      background-color: #434B5C;\n",
              "      box-shadow: 0px 1px 3px 1px rgba(0, 0, 0, 0.15);\n",
              "      filter: drop-shadow(0px 1px 2px rgba(0, 0, 0, 0.3));\n",
              "      fill: #FFFFFF;\n",
              "    }\n",
              "  </style>\n",
              "\n",
              "    <script>\n",
              "      const buttonEl =\n",
              "        document.querySelector('#df-a783bdc5-9102-48b7-be57-20099b266cb2 button.colab-df-convert');\n",
              "      buttonEl.style.display =\n",
              "        google.colab.kernel.accessAllowed ? 'block' : 'none';\n",
              "\n",
              "      async function convertToInteractive(key) {\n",
              "        const element = document.querySelector('#df-a783bdc5-9102-48b7-be57-20099b266cb2');\n",
              "        const dataTable =\n",
              "          await google.colab.kernel.invokeFunction('convertToInteractive',\n",
              "                                                    [key], {});\n",
              "        if (!dataTable) return;\n",
              "\n",
              "        const docLinkHtml = 'Like what you see? Visit the ' +\n",
              "          '<a target=\"_blank\" href=https://colab.research.google.com/notebooks/data_table.ipynb>data table notebook</a>'\n",
              "          + ' to learn more about interactive tables.';\n",
              "        element.innerHTML = '';\n",
              "        dataTable['output_type'] = 'display_data';\n",
              "        await google.colab.output.renderOutput(dataTable, element);\n",
              "        const docLink = document.createElement('div');\n",
              "        docLink.innerHTML = docLinkHtml;\n",
              "        element.appendChild(docLink);\n",
              "      }\n",
              "    </script>\n",
              "  </div>\n",
              "\n",
              "\n",
              "    <div id=\"df-4c9e9b1c-e6aa-462c-838b-5dd83c0c10d5\">\n",
              "      <button class=\"colab-df-quickchart\" onclick=\"quickchart('df-4c9e9b1c-e6aa-462c-838b-5dd83c0c10d5')\"\n",
              "                title=\"Suggest charts\"\n",
              "                style=\"display:none;\">\n",
              "\n",
              "<svg xmlns=\"http://www.w3.org/2000/svg\" height=\"24px\"viewBox=\"0 0 24 24\"\n",
              "     width=\"24px\">\n",
              "    <g>\n",
              "        <path d=\"M19 3H5c-1.1 0-2 .9-2 2v14c0 1.1.9 2 2 2h14c1.1 0 2-.9 2-2V5c0-1.1-.9-2-2-2zM9 17H7v-7h2v7zm4 0h-2V7h2v10zm4 0h-2v-4h2v4z\"/>\n",
              "    </g>\n",
              "</svg>\n",
              "      </button>\n",
              "\n",
              "<style>\n",
              "  .colab-df-quickchart {\n",
              "      --bg-color: #E8F0FE;\n",
              "      --fill-color: #1967D2;\n",
              "      --hover-bg-color: #E2EBFA;\n",
              "      --hover-fill-color: #174EA6;\n",
              "      --disabled-fill-color: #AAA;\n",
              "      --disabled-bg-color: #DDD;\n",
              "  }\n",
              "\n",
              "  [theme=dark] .colab-df-quickchart {\n",
              "      --bg-color: #3B4455;\n",
              "      --fill-color: #D2E3FC;\n",
              "      --hover-bg-color: #434B5C;\n",
              "      --hover-fill-color: #FFFFFF;\n",
              "      --disabled-bg-color: #3B4455;\n",
              "      --disabled-fill-color: #666;\n",
              "  }\n",
              "\n",
              "  .colab-df-quickchart {\n",
              "    background-color: var(--bg-color);\n",
              "    border: none;\n",
              "    border-radius: 50%;\n",
              "    cursor: pointer;\n",
              "    display: none;\n",
              "    fill: var(--fill-color);\n",
              "    height: 32px;\n",
              "    padding: 0;\n",
              "    width: 32px;\n",
              "  }\n",
              "\n",
              "  .colab-df-quickchart:hover {\n",
              "    background-color: var(--hover-bg-color);\n",
              "    box-shadow: 0 1px 2px rgba(60, 64, 67, 0.3), 0 1px 3px 1px rgba(60, 64, 67, 0.15);\n",
              "    fill: var(--button-hover-fill-color);\n",
              "  }\n",
              "\n",
              "  .colab-df-quickchart-complete:disabled,\n",
              "  .colab-df-quickchart-complete:disabled:hover {\n",
              "    background-color: var(--disabled-bg-color);\n",
              "    fill: var(--disabled-fill-color);\n",
              "    box-shadow: none;\n",
              "  }\n",
              "\n",
              "  .colab-df-spinner {\n",
              "    border: 2px solid var(--fill-color);\n",
              "    border-color: transparent;\n",
              "    border-bottom-color: var(--fill-color);\n",
              "    animation:\n",
              "      spin 1s steps(1) infinite;\n",
              "  }\n",
              "\n",
              "  @keyframes spin {\n",
              "    0% {\n",
              "      border-color: transparent;\n",
              "      border-bottom-color: var(--fill-color);\n",
              "      border-left-color: var(--fill-color);\n",
              "    }\n",
              "    20% {\n",
              "      border-color: transparent;\n",
              "      border-left-color: var(--fill-color);\n",
              "      border-top-color: var(--fill-color);\n",
              "    }\n",
              "    30% {\n",
              "      border-color: transparent;\n",
              "      border-left-color: var(--fill-color);\n",
              "      border-top-color: var(--fill-color);\n",
              "      border-right-color: var(--fill-color);\n",
              "    }\n",
              "    40% {\n",
              "      border-color: transparent;\n",
              "      border-right-color: var(--fill-color);\n",
              "      border-top-color: var(--fill-color);\n",
              "    }\n",
              "    60% {\n",
              "      border-color: transparent;\n",
              "      border-right-color: var(--fill-color);\n",
              "    }\n",
              "    80% {\n",
              "      border-color: transparent;\n",
              "      border-right-color: var(--fill-color);\n",
              "      border-bottom-color: var(--fill-color);\n",
              "    }\n",
              "    90% {\n",
              "      border-color: transparent;\n",
              "      border-bottom-color: var(--fill-color);\n",
              "    }\n",
              "  }\n",
              "</style>\n",
              "\n",
              "      <script>\n",
              "        async function quickchart(key) {\n",
              "          const quickchartButtonEl =\n",
              "            document.querySelector('#' + key + ' button');\n",
              "          quickchartButtonEl.disabled = true;  // To prevent multiple clicks.\n",
              "          quickchartButtonEl.classList.add('colab-df-spinner');\n",
              "          try {\n",
              "            const charts = await google.colab.kernel.invokeFunction(\n",
              "                'suggestCharts', [key], {});\n",
              "          } catch (error) {\n",
              "            console.error('Error during call to suggestCharts:', error);\n",
              "          }\n",
              "          quickchartButtonEl.classList.remove('colab-df-spinner');\n",
              "          quickchartButtonEl.classList.add('colab-df-quickchart-complete');\n",
              "        }\n",
              "        (() => {\n",
              "          let quickchartButtonEl =\n",
              "            document.querySelector('#df-4c9e9b1c-e6aa-462c-838b-5dd83c0c10d5 button');\n",
              "          quickchartButtonEl.style.display =\n",
              "            google.colab.kernel.accessAllowed ? 'block' : 'none';\n",
              "        })();\n",
              "      </script>\n",
              "    </div>\n",
              "\n",
              "    </div>\n",
              "  </div>\n"
            ],
            "application/vnd.google.colaboratory.intrinsic+json": {
              "type": "dataframe",
              "variable_name": "df",
              "summary": "{\n  \"name\": \"df\",\n  \"rows\": 72988,\n  \"fields\": [\n    {\n      \"column\": \"job_id\",\n      \"properties\": {\n        \"dtype\": \"number\",\n        \"std\": 111897689345.26335,\n        \"min\": 10122000503.0,\n        \"max\": 311222904900.0,\n        \"num_unique_values\": 72988,\n        \"samples\": [\n          301222910216.0,\n          291222006843.0,\n          30123008533.0\n        ],\n        \"semantic_type\": \"\",\n        \"description\": \"\"\n      }\n    },\n    {\n      \"column\": \"job_role\",\n      \"properties\": {\n        \"dtype\": \"string\",\n        \"num_unique_values\": 51039,\n        \"samples\": [\n          \"Communication Designer\",\n          \"Manager-BA Channel | Life Insurance-Alleppey\",\n          \"NVH  Engineer - Bangalore\"\n        ],\n        \"semantic_type\": \"\",\n        \"description\": \"\"\n      }\n    },\n    {\n      \"column\": \"company\",\n      \"properties\": {\n        \"dtype\": \"category\",\n        \"num_unique_values\": 15313,\n        \"samples\": [\n          \"Transglobe Iskcon India\",\n          \"Vrecroot\",\n          \"Leaptest\"\n        ],\n        \"semantic_type\": \"\",\n        \"description\": \"\"\n      }\n    },\n    {\n      \"column\": \"experience\",\n      \"properties\": {\n        \"dtype\": \"category\",\n        \"num_unique_values\": 231,\n        \"samples\": [\n          \"16-19 Yrs\",\n          \"10-12 Yrs\",\n          \"3-8 Yrs\"\n        ],\n        \"semantic_type\": \"\",\n        \"description\": \"\"\n      }\n    },\n    {\n      \"column\": \"salary\",\n      \"properties\": {\n        \"dtype\": \"category\",\n        \"num_unique_values\": 813,\n        \"samples\": [\n          \"14,00,000 - 22,50,000 PA.\",\n          \"55,00,000 - 65,00,000 PA.\",\n          \"2,00,000 - 4,75,000 PA.\"\n        ],\n        \"semantic_type\": \"\",\n        \"description\": \"\"\n      }\n    },\n    {\n      \"column\": \"location\",\n      \"properties\": {\n        \"dtype\": \"category\",\n        \"num_unique_values\": 9034,\n        \"samples\": [\n          \"Srikalahasti\",\n          \"Mohali, Chandigarh, Kharar, Naya Gaon, Panchkula, Zirakpur\",\n          \"Bareilly, Kanpur, Lucknow\"\n        ],\n        \"semantic_type\": \"\",\n        \"description\": \"\"\n      }\n    },\n    {\n      \"column\": \"resposibilities\",\n      \"properties\": {\n        \"dtype\": \"string\",\n        \"num_unique_values\": 61910,\n        \"samples\": [\n          \"QA Testing,stress testing,functional testing,performance testing,Test Case Preparation,Selenium Testing,Software Testing,Test Estimation\",\n          \"underwriting,retail loan products,Auto Loans,credit Manager,Credit Underwriting,Credit Policy\",\n          \"IT services,SAN,Head Business Development,PDF,SOC,Debugging,SMS,Troubleshooting\"\n        ],\n        \"semantic_type\": \"\",\n        \"description\": \"\"\n      }\n    }\n  ]\n}"
            }
          },
          "metadata": {},
          "execution_count": 9
        }
      ]
    },
    {
      "cell_type": "markdown",
      "source": [
        "2.3 Clean Salary Column"
      ],
      "metadata": {
        "id": "oCQETaeIzXtA"
      }
    },
    {
      "cell_type": "code",
      "source": [
        "import re\n",
        "from tqdm.auto import tqdm\n",
        "\n",
        "def extract_numeric_values(text):\n",
        "  numeric_values = str(re.findall(r'\\d+', text))\n",
        "  return numeric_values\n",
        "\n",
        "data = []\n",
        "\n",
        "for text in df['salary'].str.split('-').str[0].str.replace(',','').str.split('PA').str[0].str.strip():\n",
        "  data.append(extract_numeric_values(text))\n",
        "\n"
      ],
      "metadata": {
        "id": "8Znx4pk-zdk1"
      },
      "execution_count": 13,
      "outputs": []
    },
    {
      "cell_type": "markdown",
      "source": [],
      "metadata": {
        "id": "Asqhquh8zsgz"
      }
    },
    {
      "cell_type": "code",
      "source": [
        "df['min_salary'][0]"
      ],
      "metadata": {
        "colab": {
          "base_uri": "https://localhost:8080/",
          "height": 617
        },
        "id": "0y0Hnh7Szs4Z",
        "outputId": "d8605826-279f-4930-970b-3089ab46f29d"
      },
      "execution_count": 14,
      "outputs": [
        {
          "output_type": "error",
          "ename": "KeyError",
          "evalue": "'min_salary'",
          "traceback": [
            "\u001b[0;31m---------------------------------------------------------------------------\u001b[0m",
            "\u001b[0;31mKeyError\u001b[0m                                  Traceback (most recent call last)",
            "\u001b[0;32m/usr/local/lib/python3.11/dist-packages/pandas/core/indexes/base.py\u001b[0m in \u001b[0;36mget_loc\u001b[0;34m(self, key)\u001b[0m\n\u001b[1;32m   3804\u001b[0m         \u001b[0;32mtry\u001b[0m\u001b[0;34m:\u001b[0m\u001b[0;34m\u001b[0m\u001b[0;34m\u001b[0m\u001b[0m\n\u001b[0;32m-> 3805\u001b[0;31m             \u001b[0;32mreturn\u001b[0m \u001b[0mself\u001b[0m\u001b[0;34m.\u001b[0m\u001b[0m_engine\u001b[0m\u001b[0;34m.\u001b[0m\u001b[0mget_loc\u001b[0m\u001b[0;34m(\u001b[0m\u001b[0mcasted_key\u001b[0m\u001b[0;34m)\u001b[0m\u001b[0;34m\u001b[0m\u001b[0;34m\u001b[0m\u001b[0m\n\u001b[0m\u001b[1;32m   3806\u001b[0m         \u001b[0;32mexcept\u001b[0m \u001b[0mKeyError\u001b[0m \u001b[0;32mas\u001b[0m \u001b[0merr\u001b[0m\u001b[0;34m:\u001b[0m\u001b[0;34m\u001b[0m\u001b[0;34m\u001b[0m\u001b[0m\n",
            "\u001b[0;32mindex.pyx\u001b[0m in \u001b[0;36mpandas._libs.index.IndexEngine.get_loc\u001b[0;34m()\u001b[0m\n",
            "\u001b[0;32mindex.pyx\u001b[0m in \u001b[0;36mpandas._libs.index.IndexEngine.get_loc\u001b[0;34m()\u001b[0m\n",
            "\u001b[0;32mpandas/_libs/hashtable_class_helper.pxi\u001b[0m in \u001b[0;36mpandas._libs.hashtable.PyObjectHashTable.get_item\u001b[0;34m()\u001b[0m\n",
            "\u001b[0;32mpandas/_libs/hashtable_class_helper.pxi\u001b[0m in \u001b[0;36mpandas._libs.hashtable.PyObjectHashTable.get_item\u001b[0;34m()\u001b[0m\n",
            "\u001b[0;31mKeyError\u001b[0m: 'min_salary'",
            "\nThe above exception was the direct cause of the following exception:\n",
            "\u001b[0;31mKeyError\u001b[0m                                  Traceback (most recent call last)",
            "\u001b[0;32m<ipython-input-14-89948df8ba8f>\u001b[0m in \u001b[0;36m<cell line: 0>\u001b[0;34m()\u001b[0m\n\u001b[0;32m----> 1\u001b[0;31m \u001b[0mdf\u001b[0m\u001b[0;34m[\u001b[0m\u001b[0;34m'min_salary'\u001b[0m\u001b[0;34m]\u001b[0m\u001b[0;34m[\u001b[0m\u001b[0;36m0\u001b[0m\u001b[0;34m]\u001b[0m\u001b[0;34m\u001b[0m\u001b[0;34m\u001b[0m\u001b[0m\n\u001b[0m",
            "\u001b[0;32m/usr/local/lib/python3.11/dist-packages/pandas/core/frame.py\u001b[0m in \u001b[0;36m__getitem__\u001b[0;34m(self, key)\u001b[0m\n\u001b[1;32m   4100\u001b[0m             \u001b[0;32mif\u001b[0m \u001b[0mself\u001b[0m\u001b[0;34m.\u001b[0m\u001b[0mcolumns\u001b[0m\u001b[0;34m.\u001b[0m\u001b[0mnlevels\u001b[0m \u001b[0;34m>\u001b[0m \u001b[0;36m1\u001b[0m\u001b[0;34m:\u001b[0m\u001b[0;34m\u001b[0m\u001b[0;34m\u001b[0m\u001b[0m\n\u001b[1;32m   4101\u001b[0m                 \u001b[0;32mreturn\u001b[0m \u001b[0mself\u001b[0m\u001b[0;34m.\u001b[0m\u001b[0m_getitem_multilevel\u001b[0m\u001b[0;34m(\u001b[0m\u001b[0mkey\u001b[0m\u001b[0;34m)\u001b[0m\u001b[0;34m\u001b[0m\u001b[0;34m\u001b[0m\u001b[0m\n\u001b[0;32m-> 4102\u001b[0;31m             \u001b[0mindexer\u001b[0m \u001b[0;34m=\u001b[0m \u001b[0mself\u001b[0m\u001b[0;34m.\u001b[0m\u001b[0mcolumns\u001b[0m\u001b[0;34m.\u001b[0m\u001b[0mget_loc\u001b[0m\u001b[0;34m(\u001b[0m\u001b[0mkey\u001b[0m\u001b[0;34m)\u001b[0m\u001b[0;34m\u001b[0m\u001b[0;34m\u001b[0m\u001b[0m\n\u001b[0m\u001b[1;32m   4103\u001b[0m             \u001b[0;32mif\u001b[0m \u001b[0mis_integer\u001b[0m\u001b[0;34m(\u001b[0m\u001b[0mindexer\u001b[0m\u001b[0;34m)\u001b[0m\u001b[0;34m:\u001b[0m\u001b[0;34m\u001b[0m\u001b[0;34m\u001b[0m\u001b[0m\n\u001b[1;32m   4104\u001b[0m                 \u001b[0mindexer\u001b[0m \u001b[0;34m=\u001b[0m \u001b[0;34m[\u001b[0m\u001b[0mindexer\u001b[0m\u001b[0;34m]\u001b[0m\u001b[0;34m\u001b[0m\u001b[0;34m\u001b[0m\u001b[0m\n",
            "\u001b[0;32m/usr/local/lib/python3.11/dist-packages/pandas/core/indexes/base.py\u001b[0m in \u001b[0;36mget_loc\u001b[0;34m(self, key)\u001b[0m\n\u001b[1;32m   3810\u001b[0m             ):\n\u001b[1;32m   3811\u001b[0m                 \u001b[0;32mraise\u001b[0m \u001b[0mInvalidIndexError\u001b[0m\u001b[0;34m(\u001b[0m\u001b[0mkey\u001b[0m\u001b[0;34m)\u001b[0m\u001b[0;34m\u001b[0m\u001b[0;34m\u001b[0m\u001b[0m\n\u001b[0;32m-> 3812\u001b[0;31m             \u001b[0;32mraise\u001b[0m \u001b[0mKeyError\u001b[0m\u001b[0;34m(\u001b[0m\u001b[0mkey\u001b[0m\u001b[0;34m)\u001b[0m \u001b[0;32mfrom\u001b[0m \u001b[0merr\u001b[0m\u001b[0;34m\u001b[0m\u001b[0;34m\u001b[0m\u001b[0m\n\u001b[0m\u001b[1;32m   3813\u001b[0m         \u001b[0;32mexcept\u001b[0m \u001b[0mTypeError\u001b[0m\u001b[0;34m:\u001b[0m\u001b[0;34m\u001b[0m\u001b[0;34m\u001b[0m\u001b[0m\n\u001b[1;32m   3814\u001b[0m             \u001b[0;31m# If we have a listlike key, _check_indexing_error will raise\u001b[0m\u001b[0;34m\u001b[0m\u001b[0;34m\u001b[0m\u001b[0m\n",
            "\u001b[0;31mKeyError\u001b[0m: 'min_salary'"
          ]
        }
      ]
    },
    {
      "cell_type": "code",
      "source": [],
      "metadata": {
        "id": "5Q3yNuq_z2Nx"
      },
      "execution_count": null,
      "outputs": []
    },
    {
      "cell_type": "markdown",
      "source": [
        "3 Data Analysis"
      ],
      "metadata": {
        "id": "LI3ZBV3zz5Y3"
      }
    },
    {
      "cell_type": "markdown",
      "source": [
        "3.1) What are the skills that are needed for almost all the jobs"
      ],
      "metadata": {
        "id": "sxdoIpE3z7eo"
      }
    },
    {
      "cell_type": "code",
      "source": [
        "df['resposibilities'].str.split(',').explode().value_counts().head()"
      ],
      "metadata": {
        "colab": {
          "base_uri": "https://localhost:8080/",
          "height": 272
        },
        "id": "UPdRrKMAz_1V",
        "outputId": "1711dc94-ec0c-46e6-fd09-2fdb9b41bba6"
      },
      "execution_count": 15,
      "outputs": [
        {
          "output_type": "execute_result",
          "data": {
            "text/plain": [
              "resposibilities\n",
              "Sales            4623\n",
              "tied             3310\n",
              "agency           3307\n",
              "communication    2556\n",
              "training         2218\n",
              "Name: count, dtype: int64"
            ],
            "text/html": [
              "<div>\n",
              "<style scoped>\n",
              "    .dataframe tbody tr th:only-of-type {\n",
              "        vertical-align: middle;\n",
              "    }\n",
              "\n",
              "    .dataframe tbody tr th {\n",
              "        vertical-align: top;\n",
              "    }\n",
              "\n",
              "    .dataframe thead th {\n",
              "        text-align: right;\n",
              "    }\n",
              "</style>\n",
              "<table border=\"1\" class=\"dataframe\">\n",
              "  <thead>\n",
              "    <tr style=\"text-align: right;\">\n",
              "      <th></th>\n",
              "      <th>count</th>\n",
              "    </tr>\n",
              "    <tr>\n",
              "      <th>resposibilities</th>\n",
              "      <th></th>\n",
              "    </tr>\n",
              "  </thead>\n",
              "  <tbody>\n",
              "    <tr>\n",
              "      <th>Sales</th>\n",
              "      <td>4623</td>\n",
              "    </tr>\n",
              "    <tr>\n",
              "      <th>tied</th>\n",
              "      <td>3310</td>\n",
              "    </tr>\n",
              "    <tr>\n",
              "      <th>agency</th>\n",
              "      <td>3307</td>\n",
              "    </tr>\n",
              "    <tr>\n",
              "      <th>communication</th>\n",
              "      <td>2556</td>\n",
              "    </tr>\n",
              "    <tr>\n",
              "      <th>training</th>\n",
              "      <td>2218</td>\n",
              "    </tr>\n",
              "  </tbody>\n",
              "</table>\n",
              "</div><br><label><b>dtype:</b> int64</label>"
            ]
          },
          "metadata": {},
          "execution_count": 15
        }
      ]
    },
    {
      "cell_type": "markdown",
      "source": [
        "3.2) What are the most important skills for a Data Analyst\n"
      ],
      "metadata": {
        "id": "StjjpJyo0GLV"
      }
    },
    {
      "cell_type": "code",
      "source": [
        "df[df['job_role'] == 'Data Analyst']['resposibilities'].str.split(',').explode().str.title().value_counts().head()\n",
        ""
      ],
      "metadata": {
        "colab": {
          "base_uri": "https://localhost:8080/",
          "height": 272
        },
        "id": "NpCkD6DOz6SQ",
        "outputId": "cea31fa6-1a24-4aa8-d301-0fd52e7b7bd0"
      },
      "execution_count": 16,
      "outputs": [
        {
          "output_type": "execute_result",
          "data": {
            "text/plain": [
              "resposibilities\n",
              "Data Analysis    28\n",
              "Sql              21\n",
              "Excel            15\n",
              "Data Analyst     13\n",
              "Power Bi         13\n",
              "Name: count, dtype: int64"
            ],
            "text/html": [
              "<div>\n",
              "<style scoped>\n",
              "    .dataframe tbody tr th:only-of-type {\n",
              "        vertical-align: middle;\n",
              "    }\n",
              "\n",
              "    .dataframe tbody tr th {\n",
              "        vertical-align: top;\n",
              "    }\n",
              "\n",
              "    .dataframe thead th {\n",
              "        text-align: right;\n",
              "    }\n",
              "</style>\n",
              "<table border=\"1\" class=\"dataframe\">\n",
              "  <thead>\n",
              "    <tr style=\"text-align: right;\">\n",
              "      <th></th>\n",
              "      <th>count</th>\n",
              "    </tr>\n",
              "    <tr>\n",
              "      <th>resposibilities</th>\n",
              "      <th></th>\n",
              "    </tr>\n",
              "  </thead>\n",
              "  <tbody>\n",
              "    <tr>\n",
              "      <th>Data Analysis</th>\n",
              "      <td>28</td>\n",
              "    </tr>\n",
              "    <tr>\n",
              "      <th>Sql</th>\n",
              "      <td>21</td>\n",
              "    </tr>\n",
              "    <tr>\n",
              "      <th>Excel</th>\n",
              "      <td>15</td>\n",
              "    </tr>\n",
              "    <tr>\n",
              "      <th>Data Analyst</th>\n",
              "      <td>13</td>\n",
              "    </tr>\n",
              "    <tr>\n",
              "      <th>Power Bi</th>\n",
              "      <td>13</td>\n",
              "    </tr>\n",
              "  </tbody>\n",
              "</table>\n",
              "</div><br><label><b>dtype:</b> int64</label>"
            ]
          },
          "metadata": {},
          "execution_count": 16
        }
      ]
    },
    {
      "cell_type": "markdown",
      "source": [
        "\n",
        "3.3) What are the most important skills to ge thired in HDFC Bank"
      ],
      "metadata": {
        "id": "sZn1P2wI0O5Q"
      }
    },
    {
      "cell_type": "code",
      "source": [
        "df[df['company'] == 'Hdfc Bank']['resposibilities'].str.split(',').explode().str.title().value_counts().head()\n",
        ""
      ],
      "metadata": {
        "colab": {
          "base_uri": "https://localhost:8080/",
          "height": 272
        },
        "id": "_OHZHK8b0Pw6",
        "outputId": "b1cabda3-6d0b-4f06-fc38-e1c0c5b3bc3f"
      },
      "execution_count": 17,
      "outputs": [
        {
          "output_type": "execute_result",
          "data": {
            "text/plain": [
              "resposibilities\n",
              "Portfolio Management       8\n",
              "Cross Selling              7\n",
              "Sales                      6\n",
              "Relationship Management    6\n",
              "Banking                    5\n",
              "Name: count, dtype: int64"
            ],
            "text/html": [
              "<div>\n",
              "<style scoped>\n",
              "    .dataframe tbody tr th:only-of-type {\n",
              "        vertical-align: middle;\n",
              "    }\n",
              "\n",
              "    .dataframe tbody tr th {\n",
              "        vertical-align: top;\n",
              "    }\n",
              "\n",
              "    .dataframe thead th {\n",
              "        text-align: right;\n",
              "    }\n",
              "</style>\n",
              "<table border=\"1\" class=\"dataframe\">\n",
              "  <thead>\n",
              "    <tr style=\"text-align: right;\">\n",
              "      <th></th>\n",
              "      <th>count</th>\n",
              "    </tr>\n",
              "    <tr>\n",
              "      <th>resposibilities</th>\n",
              "      <th></th>\n",
              "    </tr>\n",
              "  </thead>\n",
              "  <tbody>\n",
              "    <tr>\n",
              "      <th>Portfolio Management</th>\n",
              "      <td>8</td>\n",
              "    </tr>\n",
              "    <tr>\n",
              "      <th>Cross Selling</th>\n",
              "      <td>7</td>\n",
              "    </tr>\n",
              "    <tr>\n",
              "      <th>Sales</th>\n",
              "      <td>6</td>\n",
              "    </tr>\n",
              "    <tr>\n",
              "      <th>Relationship Management</th>\n",
              "      <td>6</td>\n",
              "    </tr>\n",
              "    <tr>\n",
              "      <th>Banking</th>\n",
              "      <td>5</td>\n",
              "    </tr>\n",
              "  </tbody>\n",
              "</table>\n",
              "</div><br><label><b>dtype:</b> int64</label>"
            ]
          },
          "metadata": {},
          "execution_count": 17
        }
      ]
    },
    {
      "cell_type": "markdown",
      "source": [
        "3.4 Years of Exp vs Requirements"
      ],
      "metadata": {
        "id": "KQ34qMp40V45"
      }
    },
    {
      "cell_type": "code",
      "source": [],
      "metadata": {
        "id": "9k7U6KyS0W_g"
      },
      "execution_count": null,
      "outputs": []
    },
    {
      "cell_type": "markdown",
      "source": [
        "3.5 Average Salary vs Years of Exp"
      ],
      "metadata": {
        "id": "jDuE19BW0Z5x"
      }
    },
    {
      "cell_type": "code",
      "source": [],
      "metadata": {
        "id": "9npCt-zP0ao9"
      },
      "execution_count": null,
      "outputs": []
    }
  ]
}