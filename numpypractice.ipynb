{
  "nbformat": 4,
  "nbformat_minor": 0,
  "metadata": {
    "colab": {
      "provenance": [],
      "authorship_tag": "ABX9TyPCuwvWyJpySk9tY8DTNfdn",
      "include_colab_link": true
    },
    "kernelspec": {
      "name": "python3",
      "display_name": "Python 3"
    },
    "language_info": {
      "name": "python"
    }
  },
  "cells": [
    {
      "cell_type": "markdown",
      "metadata": {
        "id": "view-in-github",
        "colab_type": "text"
      },
      "source": [
        "<a href=\"https://colab.research.google.com/github/Bhavu211/Data_Science/blob/main/numpypractice.ipynb\" target=\"_parent\"><img src=\"https://colab.research.google.com/assets/colab-badge.svg\" alt=\"Open In Colab\"/></a>"
      ]
    },
    {
      "cell_type": "code",
      "execution_count": 1,
      "metadata": {
        "colab": {
          "base_uri": "https://localhost:8080/"
        },
        "id": "ZXvxLoTfpyGe",
        "outputId": "cc7f7280-03e4-4983-9aaf-06eb49fe600c"
      },
      "outputs": [
        {
          "output_type": "stream",
          "name": "stdout",
          "text": [
            "Requirement already satisfied: numpy in /usr/local/lib/python3.11/dist-packages (2.0.2)\n"
          ]
        }
      ],
      "source": [
        "!pip install numpy"
      ]
    },
    {
      "cell_type": "code",
      "source": [
        "import numpy as np"
      ],
      "metadata": {
        "id": "xGri2sbyp-6h"
      },
      "execution_count": 2,
      "outputs": []
    },
    {
      "cell_type": "markdown",
      "source": [
        "Converting the Python Arrays into Numpy Arrays"
      ],
      "metadata": {
        "id": "rypCrggi0VO1"
      }
    },
    {
      "cell_type": "code",
      "source": [
        "lst = [1,2,3,4]\n",
        "arr = np.array(lst)\n",
        "print(arr)"
      ],
      "metadata": {
        "colab": {
          "base_uri": "https://localhost:8080/"
        },
        "id": "9cu4AqjDx3I0",
        "outputId": "902a2414-4b29-4d58-cbd6-21a656d4849f"
      },
      "execution_count": 3,
      "outputs": [
        {
          "output_type": "stream",
          "name": "stdout",
          "text": [
            "[1 2 3 4]\n"
          ]
        }
      ]
    },
    {
      "cell_type": "markdown",
      "source": [
        " Creating Multidimensional Arrays"
      ],
      "metadata": {
        "id": "2z2Hkl2a0JLw"
      }
    },
    {
      "cell_type": "code",
      "source": [
        "arr = np.array([[1,2,3],[4,5,6],[7,8,9]])\n",
        "arr"
      ],
      "metadata": {
        "colab": {
          "base_uri": "https://localhost:8080/"
        },
        "id": "SbSxzJXox4do",
        "outputId": "7d9c3d21-dad5-4f93-c0a1-87448d7e6cb7"
      },
      "execution_count": 4,
      "outputs": [
        {
          "output_type": "execute_result",
          "data": {
            "text/plain": [
              "array([[1, 2, 3],\n",
              "       [4, 5, 6],\n",
              "       [7, 8, 9]])"
            ]
          },
          "metadata": {},
          "execution_count": 4
        }
      ]
    },
    {
      "cell_type": "markdown",
      "source": [
        "rrange function : It creates an array by using the evenly spaced values over the given interval.\n",
        "\n",
        "Syntax : numpy.arange(start, stop, step, dtype)\n",
        "3- step: The number by which the interval values change."
      ],
      "metadata": {
        "id": "j27yWT7Vz-09"
      }
    },
    {
      "cell_type": "code",
      "source": [
        "arr = np.arange(1,10,2)"
      ],
      "metadata": {
        "id": "jnrh40KCx_Hh"
      },
      "execution_count": 5,
      "outputs": []
    },
    {
      "cell_type": "markdown",
      "source": [
        "Size Function : In Python, numpy.size() function count the number of elements along a given axis (0 - Rows | 1 - Columns)"
      ],
      "metadata": {
        "id": "RvTwMAuGz7F0"
      }
    },
    {
      "cell_type": "code",
      "source": [
        "arr = np.array([[1,2,3],[4,5,6],[7,8,9],[1,2,3]])\n",
        "\n",
        "print('Total : ', arr.size)\n",
        "print('Rows  : ', np.size(arr,0))\n",
        "print('Cols  : ', np.size(arr,1))"
      ],
      "metadata": {
        "colab": {
          "base_uri": "https://localhost:8080/"
        },
        "id": "yD6Sc932yDos",
        "outputId": "fdb10f5f-d019-4efc-b62b-ec77ec1530ca"
      },
      "execution_count": 6,
      "outputs": [
        {
          "output_type": "stream",
          "name": "stdout",
          "text": [
            "Total :  12\n",
            "Rows  :  4\n",
            "Cols  :  3\n"
          ]
        }
      ]
    },
    {
      "cell_type": "markdown",
      "source": [
        " Shape Function :  It used to find the dimensions of data ie no of rows and columns"
      ],
      "metadata": {
        "id": "Vlp3UBowz6G1"
      }
    },
    {
      "cell_type": "code",
      "source": [
        "arr = np.array([[1,2,3],[4,5,6],[7,8,9],[1,2,3]])\n",
        "print(arr.shape)"
      ],
      "metadata": {
        "colab": {
          "base_uri": "https://localhost:8080/"
        },
        "id": "-3a9tM4JyFBP",
        "outputId": "b3b22904-42d7-499b-bc31-604c755fd7de"
      },
      "execution_count": 7,
      "outputs": [
        {
          "output_type": "stream",
          "name": "stdout",
          "text": [
            "(4, 3)\n"
          ]
        }
      ]
    },
    {
      "cell_type": "markdown",
      "source": [
        "dtype Function :dtype in Python usually means the data type of the elements of a numpy array.\n",
        "i - integer\n",
        "b - boolean\n",
        "u - unsigned integer\n",
        "f - float\n",
        "c - complex float\n",
        "m - timedelta\n",
        "M - datetime\n",
        "O - object\n",
        "S - string\n",
        "U - unicode string"
      ],
      "metadata": {
        "id": "K7GNhw5fzw-d"
      }
    },
    {
      "cell_type": "code",
      "source": [
        "arr1 = np.array([1,2,3,1,2,3])\n",
        "arr2 = np.array([1.2,3.1,2.3])\n",
        "print(arr1.dtype)\n",
        "print(arr2.dtype)"
      ],
      "metadata": {
        "colab": {
          "base_uri": "https://localhost:8080/"
        },
        "id": "kXLSDrXgyKfa",
        "outputId": "cc0d0318-4414-459b-9766-3f324e63de97"
      },
      "execution_count": 8,
      "outputs": [
        {
          "output_type": "stream",
          "name": "stdout",
          "text": [
            "int64\n",
            "float64\n"
          ]
        }
      ]
    },
    {
      "cell_type": "markdown",
      "source": [
        "Ndim Function :The ndim attribute in NumPy provides the number of dimensions in an array ie 1-D , 2-D etc."
      ],
      "metadata": {
        "id": "uSFqpV_lzuuN"
      }
    },
    {
      "cell_type": "code",
      "source": [
        "arr1 = np.array([1,2,3,1,2,3])\n",
        "arr2 = np.array([[1,2,3],[1,2,3]])\n",
        "\n",
        "print(arr1.ndim)\n",
        "print(arr2.ndim)\n",
        "\n",
        "arr3 = np.array(arr1, ndmin = 3)\n",
        "print(arr3.ndim)\n"
      ],
      "metadata": {
        "colab": {
          "base_uri": "https://localhost:8080/"
        },
        "id": "J51HlTSAyL2d",
        "outputId": "60cb985c-85a8-434b-89bd-7557b215c397"
      },
      "execution_count": 9,
      "outputs": [
        {
          "output_type": "stream",
          "name": "stdout",
          "text": [
            "1\n",
            "2\n",
            "3\n"
          ]
        }
      ]
    },
    {
      "cell_type": "markdown",
      "source": [
        "Zeros Function : returns an array with the given shape and data type filled with zeros."
      ],
      "metadata": {
        "id": "iactwC--zlE1"
      }
    },
    {
      "cell_type": "code",
      "source": [
        "arr = np.zeros(shape = (3,5), dtype = int)\n",
        "arr"
      ],
      "metadata": {
        "colab": {
          "base_uri": "https://localhost:8080/"
        },
        "id": "Hvk5_BSlyO-5",
        "outputId": "c8916573-931d-495d-eaa2-89f51a32ed9e"
      },
      "execution_count": 18,
      "outputs": [
        {
          "output_type": "execute_result",
          "data": {
            "text/plain": [
              "array([[0, 0, 0, 0, 0],\n",
              "       [0, 0, 0, 0, 0],\n",
              "       [0, 0, 0, 0, 0]])"
            ]
          },
          "metadata": {},
          "execution_count": 18
        }
      ]
    },
    {
      "cell_type": "markdown",
      "source": [
        "Create a 1D array of zeros"
      ],
      "metadata": {
        "id": "PZh2IJgxzhPS"
      }
    },
    {
      "cell_type": "code",
      "source": [
        "arr = np.zeros(9)\n",
        "arr"
      ],
      "metadata": {
        "colab": {
          "base_uri": "https://localhost:8080/"
        },
        "id": "ZQIrWv-qyaIY",
        "outputId": "a14c7863-c96a-46b8-cc7e-3f57bbe0f9ed"
      },
      "execution_count": 17,
      "outputs": [
        {
          "output_type": "execute_result",
          "data": {
            "text/plain": [
              "array([0., 0., 0., 0., 0., 0., 0., 0., 0.])"
            ]
          },
          "metadata": {},
          "execution_count": 17
        }
      ]
    },
    {
      "cell_type": "markdown",
      "source": [
        "Create a 1D array of zeros"
      ],
      "metadata": {
        "id": "2w9yLWcRzdY4"
      }
    },
    {
      "cell_type": "code",
      "source": [
        "arr = np.zeros(7, int)\n",
        "arr"
      ],
      "metadata": {
        "colab": {
          "base_uri": "https://localhost:8080/"
        },
        "id": "BeWfsDBgydsg",
        "outputId": "0fbd5465-affb-4c87-ab9b-151603c5c557"
      },
      "execution_count": 16,
      "outputs": [
        {
          "output_type": "execute_result",
          "data": {
            "text/plain": [
              "array([0, 0, 0, 0, 0, 0, 0])"
            ]
          },
          "metadata": {},
          "execution_count": 16
        }
      ]
    },
    {
      "cell_type": "markdown",
      "source": [
        "Create two-dimensional array with zeros"
      ],
      "metadata": {
        "id": "EVChaH0OzZlr"
      }
    },
    {
      "cell_type": "code",
      "source": [
        "arr = np.zeros((4,5))\n",
        "arr"
      ],
      "metadata": {
        "colab": {
          "base_uri": "https://localhost:8080/"
        },
        "id": "ztONxSn9yiH2",
        "outputId": "f9597d58-4f7c-4cfd-dc24-9b0b395cc9b4"
      },
      "execution_count": 15,
      "outputs": [
        {
          "output_type": "execute_result",
          "data": {
            "text/plain": [
              "array([[0., 0., 0., 0., 0.],\n",
              "       [0., 0., 0., 0., 0.],\n",
              "       [0., 0., 0., 0., 0.],\n",
              "       [0., 0., 0., 0., 0.]])"
            ]
          },
          "metadata": {},
          "execution_count": 15
        }
      ]
    },
    {
      "cell_type": "markdown",
      "source": [
        "Create three-dimensional array with zeros"
      ],
      "metadata": {
        "id": "YB1oySOWzT-x"
      }
    },
    {
      "cell_type": "code",
      "source": [
        "arr = np.zeros((4, 3, 5))\n",
        "arr"
      ],
      "metadata": {
        "colab": {
          "base_uri": "https://localhost:8080/"
        },
        "id": "SCi-by4pylnd",
        "outputId": "5793cb4b-8c57-4e6d-9fe6-49e8b512f23f"
      },
      "execution_count": 14,
      "outputs": [
        {
          "output_type": "execute_result",
          "data": {
            "text/plain": [
              "array([[[0., 0., 0., 0., 0.],\n",
              "        [0., 0., 0., 0., 0.],\n",
              "        [0., 0., 0., 0., 0.]],\n",
              "\n",
              "       [[0., 0., 0., 0., 0.],\n",
              "        [0., 0., 0., 0., 0.],\n",
              "        [0., 0., 0., 0., 0.]],\n",
              "\n",
              "       [[0., 0., 0., 0., 0.],\n",
              "        [0., 0., 0., 0., 0.],\n",
              "        [0., 0., 0., 0., 0.]],\n",
              "\n",
              "       [[0., 0., 0., 0., 0.],\n",
              "        [0., 0., 0., 0., 0.],\n",
              "        [0., 0., 0., 0., 0.]]])"
            ]
          },
          "metadata": {},
          "execution_count": 14
        }
      ]
    },
    {
      "cell_type": "markdown",
      "source": [
        "Ones function : used to create a new array of given shape and type, filled with ones.\n",
        "\n",
        "Syntax : numpy.ones(shape, dtype = None)"
      ],
      "metadata": {
        "id": "5yW7c9BszPcl"
      }
    },
    {
      "cell_type": "code",
      "source": [
        "arr = np.ones(shape = (3,5), dtype = int)\n",
        "print(arr)"
      ],
      "metadata": {
        "colab": {
          "base_uri": "https://localhost:8080/"
        },
        "id": "ABIpgjpDyvLS",
        "outputId": "3d2957f6-09f7-4b2b-8672-13efc93775fd"
      },
      "execution_count": 19,
      "outputs": [
        {
          "output_type": "stream",
          "name": "stdout",
          "text": [
            "[[1 1 1 1 1]\n",
            " [1 1 1 1 1]\n",
            " [1 1 1 1 1]]\n"
          ]
        }
      ]
    },
    {
      "cell_type": "markdown",
      "source": [
        "Eye Function : The eye tool returns a 2-D array with 1’s as the diagonal and 0’s elsewhere. The diagonal can be main, upper, or lower .\n",
        "\n",
        "Syntax : numpy.eye(n, m, dtype)\n",
        "\n",
        "where : n :This parameter is used to represent the number of rows in the resulting matrix.\n",
        "\n",
        "m :This parameter is used to represent the number of columns and the default value is n.\n",
        "\n",
        "k:This parameter is used to indicate an index of diagonal,value of this parameter is 0 by default if value of k>0 it means diagonal is above the main diagonal or vice versa.\n",
        "\n",
        "dtype :This parameter is used to indicate the data type of the matrix. The default value of this parameter is float"
      ],
      "metadata": {
        "id": "dZHbOEgCzECx"
      }
    },
    {
      "cell_type": "code",
      "source": [
        "import numpy as np\n",
        "np.eye(4, dtype = int)"
      ],
      "metadata": {
        "colab": {
          "base_uri": "https://localhost:8080/"
        },
        "id": "-CdWc1bTy356",
        "outputId": "e976536b-f96c-4e93-efa4-884f7c376250"
      },
      "execution_count": 20,
      "outputs": [
        {
          "output_type": "execute_result",
          "data": {
            "text/plain": [
              "array([[1, 0, 0, 0],\n",
              "       [0, 1, 0, 0],\n",
              "       [0, 0, 1, 0],\n",
              "       [0, 0, 0, 1]])"
            ]
          },
          "metadata": {},
          "execution_count": 20
        }
      ]
    },
    {
      "cell_type": "markdown",
      "source": [
        "Empty Function: It is used to create a new array of given shapes and types, without initializing entries."
      ],
      "metadata": {
        "id": "NdwlZCo4zAlQ"
      }
    },
    {
      "cell_type": "code",
      "source": [
        "np.empty(shape = (5,5))"
      ],
      "metadata": {
        "colab": {
          "base_uri": "https://localhost:8080/"
        },
        "id": "VhGgainXy5Gm",
        "outputId": "8d9ff0e2-39d5-4877-8682-123b245adccf"
      },
      "execution_count": 21,
      "outputs": [
        {
          "output_type": "execute_result",
          "data": {
            "text/plain": [
              "array([[ 2.84297574e-315,  0.00000000e+000,  3.99909290e+252,\n",
              "         5.28558992e+180,  1.14156329e+243],\n",
              "       [ 6.18931813e+223,  6.25653876e-085,  1.76451834e-019,\n",
              "         1.02832805e-152,  5.52931304e+252],\n",
              "       [ 3.91407133e+180,  3.60914848e+227,  1.88753726e+219,\n",
              "         9.08367203e+223,  2.25849472e-080],\n",
              "       [ 9.17715252e+170,  2.58634340e+161,  1.80092301e+219,\n",
              "         3.69028917e+180,  3.78799985e+209],\n",
              "       [ 2.58634340e+161,  1.99550921e+161,  1.29560680e+214,\n",
              "         1.37233970e+160, -4.52895292e-208]])"
            ]
          },
          "metadata": {},
          "execution_count": 21
        }
      ]
    },
    {
      "cell_type": "markdown",
      "source": [
        "np.random.rand : The numpy.random.rand() function creates an array of specified shape and fills it with random values."
      ],
      "metadata": {
        "id": "qZd-KbdA0Zwk"
      }
    },
    {
      "cell_type": "code",
      "source": [
        "np.random.rand(3,4)"
      ],
      "metadata": {
        "colab": {
          "base_uri": "https://localhost:8080/"
        },
        "id": "md_lTVrr0dN6",
        "outputId": "1ea753e3-e306-47bb-fc04-213735bba5a9"
      },
      "execution_count": 22,
      "outputs": [
        {
          "output_type": "execute_result",
          "data": {
            "text/plain": [
              "array([[0.89820259, 0.41803441, 0.86041037, 0.11159514],\n",
              "       [0.10178487, 0.56490488, 0.51774958, 0.85256387],\n",
              "       [0.43202269, 0.482812  , 0.04326974, 0.58322176]])"
            ]
          },
          "metadata": {},
          "execution_count": 22
        }
      ]
    },
    {
      "cell_type": "markdown",
      "source": [
        "np.random.randint : numpy.random.randint() is one of the function for doing random sampling in numpy."
      ],
      "metadata": {
        "id": "4vgqCKsz0fo9"
      }
    },
    {
      "cell_type": "code",
      "source": [
        "np.random.randint(low = 1, high = 10, size = 10)"
      ],
      "metadata": {
        "colab": {
          "base_uri": "https://localhost:8080/"
        },
        "id": "FY14znxb0jUR",
        "outputId": "d8dc7047-fbe5-4e5f-eb76-6bae7dbfeec8"
      },
      "execution_count": 23,
      "outputs": [
        {
          "output_type": "execute_result",
          "data": {
            "text/plain": [
              "array([3, 4, 9, 2, 3, 1, 9, 6, 7, 8])"
            ]
          },
          "metadata": {},
          "execution_count": 23
        }
      ]
    },
    {
      "cell_type": "markdown",
      "source": [
        "np.random.randn :The numpy.random.randn() function creates an array of specified shape and fills it with random values as per standard normal distribution."
      ],
      "metadata": {
        "id": "d5U1RlfL0l5h"
      }
    },
    {
      "cell_type": "code",
      "source": [
        "import matplotlib.pyplot as plt\n",
        "\n",
        "%matplotlib inline\n",
        "\n",
        "plt.hist(np.random.randn(10000000), bins = 1000);"
      ],
      "metadata": {
        "colab": {
          "base_uri": "https://localhost:8080/",
          "height": 430
        },
        "id": "SNm5TF1L0ooe",
        "outputId": "c0839dad-02f1-443c-b5a9-1cf9fee1f658"
      },
      "execution_count": 24,
      "outputs": [
        {
          "output_type": "display_data",
          "data": {
            "text/plain": [
              "<Figure size 640x480 with 1 Axes>"
            ],
            "image/png": "[encoded data removed]"
          },
          "metadata": {}
        }
      ]
    },
    {
      "cell_type": "markdown",
      "source": [
        "Reshape function : numpy.reshape() function allows us to reshape an array"
      ],
      "metadata": {
        "id": "cU-Y-pp60vMI"
      }
    },
    {
      "cell_type": "code",
      "source": [
        "x=np.arange(12)\n",
        "y=np.reshape(x, (4,3))\n",
        "print(x)\n",
        "print(y)"
      ],
      "metadata": {
        "colab": {
          "base_uri": "https://localhost:8080/"
        },
        "id": "yGycRDDqy7rg",
        "outputId": "a4d6d311-5b0a-43f0-8580-75f2307cc15a"
      },
      "execution_count": 25,
      "outputs": [
        {
          "output_type": "stream",
          "name": "stdout",
          "text": [
            "[ 0  1  2  3  4  5  6  7  8  9 10 11]\n",
            "[[ 0  1  2]\n",
            " [ 3  4  5]\n",
            " [ 6  7  8]\n",
            " [ 9 10 11]]\n"
          ]
        }
      ]
    },
    {
      "cell_type": "markdown",
      "source": [
        "Linspace Function : The numpy.linspace() function returns number spaces evenly w.r.t interval."
      ],
      "metadata": {
        "id": "pnIvzO0605HK"
      }
    },
    {
      "cell_type": "code",
      "source": [
        "np.linspace(1,10,5)"
      ],
      "metadata": {
        "colab": {
          "base_uri": "https://localhost:8080/"
        },
        "id": "fS4B_56q05xy",
        "outputId": "04a37ea7-270b-4c15-af46-d3cd40af3ae7"
      },
      "execution_count": 26,
      "outputs": [
        {
          "output_type": "execute_result",
          "data": {
            "text/plain": [
              "array([ 1.  ,  3.25,  5.5 ,  7.75, 10.  ])"
            ]
          },
          "metadata": {},
          "execution_count": 26
        }
      ]
    },
    {
      "cell_type": "markdown",
      "source": [
        "Flatten Function : It is used to return a copy of a given array in such a way that it is collapsed into one dimension."
      ],
      "metadata": {
        "id": "4RTLP1bm08RI"
      }
    },
    {
      "cell_type": "code",
      "source": [
        "arr = np.random.randint(1,15,(3,4))\n",
        "\n",
        "print(arr.shape)\n",
        "print(arr)\n",
        "print('-'*20)\n",
        "arr = arr.flatten()\n",
        "print(arr.shape)\n",
        "print(arr)"
      ],
      "metadata": {
        "colab": {
          "base_uri": "https://localhost:8080/"
        },
        "id": "il_bXk0v0_Pb",
        "outputId": "8fe4a29d-c7fb-4e1f-a6d9-38e6bc374401"
      },
      "execution_count": 28,
      "outputs": [
        {
          "output_type": "stream",
          "name": "stdout",
          "text": [
            "(3, 4)\n",
            "[[ 8  8 14  9]\n",
            " [ 2  4  2 13]\n",
            " [ 4  7  1 10]]\n",
            "--------------------\n",
            "(12,)\n",
            "[ 8  8 14  9  2  4  2 13  4  7  1 10]\n"
          ]
        }
      ]
    },
    {
      "cell_type": "markdown",
      "source": [
        "Logspace Function : The numpy.logspace() function returns number spaces evenly w.r.t interval on a log scale."
      ],
      "metadata": {
        "id": "vzkE9g8N1HXu"
      }
    },
    {
      "cell_type": "code",
      "source": [
        "print(np.logspace(2,4,10))\n",
        "print('-'*20)\n",
        "print(np.logspace(2,4,10, base = 2))"
      ],
      "metadata": {
        "colab": {
          "base_uri": "https://localhost:8080/"
        },
        "id": "-9C7XEHt1Kbt",
        "outputId": "707f11b5-0ba7-4655-9baa-9f332cb8aaf1"
      },
      "execution_count": 29,
      "outputs": [
        {
          "output_type": "stream",
          "name": "stdout",
          "text": [
            "[  100.           166.81005372   278.25594022   464.15888336\n",
            "   774.26368268  1291.54966501  2154.43469003  3593.8136638\n",
            "  5994.84250319 10000.        ]\n",
            "--------------------\n",
            "[ 4.          4.66611616  5.44316     6.34960421  7.4069977   8.64047791\n",
            " 10.0793684  11.75787594 13.71590373 16.        ]\n"
          ]
        }
      ]
    },
    {
      "cell_type": "markdown",
      "source": [
        "Copy function : The numpy.copy() function is used to get an array copy of an given object."
      ],
      "metadata": {
        "id": "kPD2YpFD1M9p"
      }
    },
    {
      "cell_type": "code",
      "source": [
        "arr1 = np.random.randint(1,15,10)\n",
        "\n",
        "arr2 = arr1\n",
        "\n",
        "print(arr1, id(arr1))\n",
        "print(arr2, id(arr2))\n",
        "\n",
        "print('-'*50)\n",
        "\n",
        "arr1 = np.random.randint(1,15,10)\n",
        "arr2 = np.copy(arr1)\n",
        "\n",
        "print(arr1, id(arr1))\n",
        "print(arr2, id(arr2))"
      ],
      "metadata": {
        "colab": {
          "base_uri": "https://localhost:8080/"
        },
        "id": "mhps8B-t1Pnv",
        "outputId": "30b22f7d-44a3-48f9-d114-a2f4a5ea7261"
      },
      "execution_count": 30,
      "outputs": [
        {
          "output_type": "stream",
          "name": "stdout",
          "text": [
            "[13  9  8 14  4  4  2 13  1 14] 134671722820880\n",
            "[13  9  8 14  4  4  2 13  1 14] 134671722820880\n",
            "--------------------------------------------------\n",
            "[ 6  6  9  5  3 14  8  4  9  1] 134671719677744\n",
            "[ 6  6  9  5  3 14  8  4  9  1] 134672662315632\n"
          ]
        }
      ]
    },
    {
      "cell_type": "markdown",
      "source": [
        "arr.max() will give us the maximum element present in the array\n",
        "arr.min() will give us the minimun element present in the array\n",
        "arr.sum() will give us the sum of all the elements present in the array"
      ],
      "metadata": {
        "id": "YVExJZCE1Twk"
      }
    },
    {
      "cell_type": "code",
      "source": [
        "arr = np.random.randint(1,30,(3,5))\n",
        "\n",
        "print('-'*20)\n",
        "print(arr)\n",
        "print('-'*20)\n",
        "\n",
        "print('MAX : ', arr.max())\n",
        "print('MIN : ', arr.min())\n",
        "print('SUM : ', arr.sum())"
      ],
      "metadata": {
        "colab": {
          "base_uri": "https://localhost:8080/"
        },
        "id": "sq50MGa_1WpP",
        "outputId": "1b9f7227-95b2-4b30-80fe-fe8a54bbc511"
      },
      "execution_count": 31,
      "outputs": [
        {
          "output_type": "stream",
          "name": "stdout",
          "text": [
            "--------------------\n",
            "[[27  6 12 14  5]\n",
            " [20 15 28  3  4]\n",
            " [22 27  8 26 15]]\n",
            "--------------------\n",
            "MAX :  28\n",
            "MIN :  3\n",
            "SUM :  232\n"
          ]
        }
      ]
    },
    {
      "cell_type": "markdown",
      "source": [
        "axis parameter to get the max, min and sum of a particular column or row\n",
        "\n",
        "axis=0 is for the column\n",
        "axis=1 is for the row"
      ],
      "metadata": {
        "id": "iBFRZ5OE1ajn"
      }
    },
    {
      "cell_type": "code",
      "source": [
        "arr = np.random.randint(1,30,(3,5))\n",
        "\n",
        "print('-'*20)\n",
        "print(arr)\n",
        "print('-'*20)"
      ],
      "metadata": {
        "colab": {
          "base_uri": "https://localhost:8080/"
        },
        "id": "smdr259G1e14",
        "outputId": "d7358dba-f987-4a62-b7e7-06cf5030600f"
      },
      "execution_count": 32,
      "outputs": [
        {
          "output_type": "stream",
          "name": "stdout",
          "text": [
            "--------------------\n",
            "[[11 26 19  9  5]\n",
            " [ 2 24 25  9 22]\n",
            " [25  1  2 26  1]]\n",
            "--------------------\n"
          ]
        }
      ]
    },
    {
      "cell_type": "markdown",
      "source": [
        "for columns"
      ],
      "metadata": {
        "id": "xDWpDvMA1hHe"
      }
    },
    {
      "cell_type": "code",
      "source": [
        "print('MAX : ', arr.max(axis = 0))\n",
        "print('MIN : ', arr.min(axis = 0))\n",
        "print('SUM : ', arr.sum(axis = 0))"
      ],
      "metadata": {
        "colab": {
          "base_uri": "https://localhost:8080/"
        },
        "id": "nGs6TfnV1mWh",
        "outputId": "767ba4c8-42bf-49ee-e33b-67ad4dc5a62c"
      },
      "execution_count": 33,
      "outputs": [
        {
          "output_type": "stream",
          "name": "stdout",
          "text": [
            "MAX :  [25 26 25 26 22]\n",
            "MIN :  [2 1 2 9 1]\n",
            "SUM :  [38 51 46 44 28]\n"
          ]
        }
      ]
    },
    {
      "cell_type": "markdown",
      "source": [
        "for rows"
      ],
      "metadata": {
        "id": "hJiD-kiG1n1n"
      }
    },
    {
      "cell_type": "code",
      "source": [
        "print('MAX : ', arr.max(axis = 1))\n",
        "print('MIN : ', arr.min(axis = 1))\n",
        "print('SUM : ', arr.sum(axis = 1))"
      ],
      "metadata": {
        "colab": {
          "base_uri": "https://localhost:8080/"
        },
        "id": "RIfA4fek1rR1",
        "outputId": "05f9310f-0b1a-48aa-8f59-7278e5995ece"
      },
      "execution_count": 34,
      "outputs": [
        {
          "output_type": "stream",
          "name": "stdout",
          "text": [
            "MAX :  [26 25 26]\n",
            "MIN :  [5 2 1]\n",
            "SUM :  [70 82 55]\n"
          ]
        }
      ]
    },
    {
      "cell_type": "markdown",
      "source": [
        "Seed Function : random() function is used to generate random numbers in Python"
      ],
      "metadata": {
        "id": "zWWliDzV1tlS"
      }
    },
    {
      "cell_type": "code",
      "source": [
        "np.random.seed(3)\n",
        "arr = np.random.randint(1,10,(3,5))\n",
        "arr"
      ],
      "metadata": {
        "colab": {
          "base_uri": "https://localhost:8080/"
        },
        "id": "hM4r9KJv1xCW",
        "outputId": "4aecc394-c802-49c6-a4d4-8dbd05a5ec90"
      },
      "execution_count": 35,
      "outputs": [
        {
          "output_type": "execute_result",
          "data": {
            "text/plain": [
              "array([[9, 4, 9, 9, 1],\n",
              "       [6, 4, 6, 8, 7],\n",
              "       [1, 5, 8, 9, 2]])"
            ]
          },
          "metadata": {},
          "execution_count": 35
        }
      ]
    },
    {
      "cell_type": "markdown",
      "source": [
        "Sorting function : numpy.sort() :"
      ],
      "metadata": {
        "id": "hylJeIBB11HB"
      }
    },
    {
      "cell_type": "code",
      "source": [
        "np.random.seed(3)\n",
        "arr = np.random.randint(1,10,(3,5))\n",
        "\n",
        "print('-'*15)\n",
        "print(arr)\n",
        "print('-'*15)\n",
        "print(np.sort(arr, axis = 1))\n",
        "print('-'*15)\n",
        "print(np.sort(arr, axis = 0))\n",
        "print('-'*15)\n",
        "\n",
        "arr = np.reshape(np.sort(arr.flatten()), arr.shape)\n",
        "print(arr)\n",
        "print('-'*15)"
      ],
      "metadata": {
        "colab": {
          "base_uri": "https://localhost:8080/"
        },
        "id": "PJc7SXgP14Tv",
        "outputId": "554f274f-a62a-4294-a9c0-638806408601"
      },
      "execution_count": 36,
      "outputs": [
        {
          "output_type": "stream",
          "name": "stdout",
          "text": [
            "---------------\n",
            "[[9 4 9 9 1]\n",
            " [6 4 6 8 7]\n",
            " [1 5 8 9 2]]\n",
            "---------------\n",
            "[[1 4 9 9 9]\n",
            " [4 6 6 7 8]\n",
            " [1 2 5 8 9]]\n",
            "---------------\n",
            "[[1 4 6 8 1]\n",
            " [6 4 8 9 2]\n",
            " [9 5 9 9 7]]\n",
            "---------------\n",
            "[[1 1 2 4 4]\n",
            " [5 6 6 7 8]\n",
            " [8 9 9 9 9]]\n",
            "---------------\n"
          ]
        }
      ]
    },
    {
      "cell_type": "markdown",
      "source": [],
      "metadata": {
        "id": "Uzje3cIH17KS"
      }
    },
    {
      "cell_type": "code",
      "source": [
        "print(np.sort(arr, axis = 0, kind = 'mergesort'))"
      ],
      "metadata": {
        "colab": {
          "base_uri": "https://localhost:8080/"
        },
        "id": "b7xchwwl2Cic",
        "outputId": "52e6b86c-74fe-4395-c42b-b9688e3eb721"
      },
      "execution_count": 37,
      "outputs": [
        {
          "output_type": "stream",
          "name": "stdout",
          "text": [
            "[[1 1 2 4 4]\n",
            " [5 6 6 7 8]\n",
            " [8 9 9 9 9]]\n"
          ]
        }
      ]
    }
  ]
}