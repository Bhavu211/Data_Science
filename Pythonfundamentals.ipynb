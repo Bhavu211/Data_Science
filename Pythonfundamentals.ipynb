{
  "nbformat": 4,
  "nbformat_minor": 0,
  "metadata": {
    "colab": {
      "provenance": [],
      "authorship_tag": "ABX9TyMpVv7uL2OfUQ/27xH0sVxv",
      "include_colab_link": true
    },
    "kernelspec": {
      "name": "python3",
      "display_name": "Python 3"
    },
    "language_info": {
      "name": "python"
    }
  },
  "cells": [
    {
      "cell_type": "markdown",
      "metadata": {
        "id": "view-in-github",
        "colab_type": "text"
      },
      "source": [
        "<a href=\"https://colab.research.google.com/github/Bhavu211/Data_Science/blob/main/Pythonfundamentals.ipynb\" target=\"_parent\"><img src=\"https://colab.research.google.com/assets/colab-badge.svg\" alt=\"Open In Colab\"/></a>"
      ]
    },
    {
      "cell_type": "markdown",
      "source": [
        "**1. Datatypes**"
      ],
      "metadata": {
        "id": "zjPclaFn2D88"
      }
    },
    {
      "cell_type": "markdown",
      "source": [
        "1.1) print()"
      ],
      "metadata": {
        "id": "WgIH6Z642VkP"
      }
    },
    {
      "cell_type": "code",
      "execution_count": 1,
      "metadata": {
        "colab": {
          "base_uri": "https://localhost:8080/"
        },
        "id": "uoUXi9fr14Jv",
        "outputId": "9b4f5be1-7ce3-49aa-a22c-ebab8fc250c0"
      },
      "outputs": [
        {
          "output_type": "stream",
          "name": "stdout",
          "text": [
            "Bhawna is an AI product manager\n"
          ]
        }
      ],
      "source": [
        "print(\"Bhawna is an AI product manager\")"
      ]
    },
    {
      "cell_type": "markdown",
      "source": [
        "1.2) Different Datatypes"
      ],
      "metadata": {
        "id": "OqRaGrC32oNA"
      }
    },
    {
      "cell_type": "code",
      "source": [
        "print(0.0)\n",
        "print(0)\n",
        "print(False)\n",
        "print('0.asdasd3458r13fd')"
      ],
      "metadata": {
        "colab": {
          "base_uri": "https://localhost:8080/"
        },
        "id": "ZcgP2C5Z2tR5",
        "outputId": "18fa6351-8c10-4b5a-c88a-64b6cbc38d37"
      },
      "execution_count": 2,
      "outputs": [
        {
          "output_type": "stream",
          "name": "stdout",
          "text": [
            "0.0\n",
            "0\n",
            "False\n",
            "0.asdasd3458r13fd\n"
          ]
        }
      ]
    },
    {
      "cell_type": "markdown",
      "source": [
        "1.3) type()"
      ],
      "metadata": {
        "id": "XUzUJ0iM21rS"
      }
    },
    {
      "cell_type": "code",
      "source": [
        "print(type(0.0))\n",
        "print(type(0))\n",
        "print(type(False))\n",
        "print(type('0.asdasd3458r13fd'))"
      ],
      "metadata": {
        "colab": {
          "base_uri": "https://localhost:8080/"
        },
        "id": "PGdtuDlV27At",
        "outputId": "9192e739-6f76-4d48-c795-d8f1f093b601"
      },
      "execution_count": 3,
      "outputs": [
        {
          "output_type": "stream",
          "name": "stdout",
          "text": [
            "<class 'float'>\n",
            "<class 'int'>\n",
            "<class 'bool'>\n",
            "<class 'str'>\n"
          ]
        }
      ]
    },
    {
      "cell_type": "markdown",
      "source": [
        "**2. Operators**"
      ],
      "metadata": {
        "id": "zcOxazxr3A_N"
      }
    },
    {
      "cell_type": "markdown",
      "source": [
        "2.1) Arithmetic"
      ],
      "metadata": {
        "id": "EcC0smaY3Jyv"
      }
    },
    {
      "cell_type": "code",
      "source": [
        "print(3+2)\n",
        "print(3-2)\n",
        "print(3*2)\n",
        "print(3/2)\n",
        "print(3//2)\n",
        "print(3%2)\n",
        "print(3**2)\n",
        "\n",
        "print(3*'Bhawna')\n",
        "print('Bhawna' + 'Mangla')\n",
        "\n",
        "print(True + True + True)\n",
        "print(False + False + False)\n",
        "\n",
        "print('Bhawna'*False)\n",
        "print(5*True)"
      ],
      "metadata": {
        "colab": {
          "base_uri": "https://localhost:8080/"
        },
        "id": "0PjR1-4H3M2P",
        "outputId": "bbdc0bcd-c968-4bbf-c7f0-034c770fa93e"
      },
      "execution_count": 4,
      "outputs": [
        {
          "output_type": "stream",
          "name": "stdout",
          "text": [
            "5\n",
            "1\n",
            "6\n",
            "1.5\n",
            "1\n",
            "1\n",
            "9\n",
            "BhawnaBhawnaBhawna\n",
            "BhawnaMangla\n",
            "3\n",
            "0\n",
            "\n",
            "5\n"
          ]
        }
      ]
    },
    {
      "cell_type": "markdown",
      "source": [
        "2.2) Comparison"
      ],
      "metadata": {
        "id": "zimkphFG3Z28"
      }
    },
    {
      "cell_type": "code",
      "source": [
        "print(2>3)\n",
        "print(2>=3)\n",
        "print(2>=3)\n",
        "print(2<3)\n",
        "print(2<=3)\n",
        "print(2!=3)\n",
        "print(2==3)\n",
        "print(2>3.5)\n",
        "print(2.3>=3)\n",
        "print(2.4>=3)\n",
        "\n"
      ],
      "metadata": {
        "colab": {
          "base_uri": "https://localhost:8080/"
        },
        "id": "nciPRcJ03G4J",
        "outputId": "c441e6d1-309a-4235-a368-c1c17d585f5c"
      },
      "execution_count": 5,
      "outputs": [
        {
          "output_type": "stream",
          "name": "stdout",
          "text": [
            "False\n",
            "False\n",
            "False\n",
            "True\n",
            "True\n",
            "True\n",
            "False\n",
            "False\n",
            "False\n",
            "False\n"
          ]
        }
      ]
    },
    {
      "cell_type": "markdown",
      "source": [
        "2.3) Logical"
      ],
      "metadata": {
        "id": "uu8qDjNT3inm"
      }
    },
    {
      "cell_type": "code",
      "source": [
        "age = 5\n",
        "\n",
        "print((age >= 18) and (age <= 100))\n",
        "print((age >= 18) or (age <= 100))\n",
        "print(not(True))\n",
        "print(not((age >= 18) or (age <= 100)))\n",
        ""
      ],
      "metadata": {
        "colab": {
          "base_uri": "https://localhost:8080/"
        },
        "id": "nQ7lYX963lRo",
        "outputId": "68988e6b-0d8b-478a-c805-b8c40ebe791c"
      },
      "execution_count": 6,
      "outputs": [
        {
          "output_type": "stream",
          "name": "stdout",
          "text": [
            "False\n",
            "True\n",
            "False\n",
            "False\n"
          ]
        }
      ]
    },
    {
      "cell_type": "markdown",
      "source": [
        "**3. Typecasting**"
      ],
      "metadata": {
        "id": "eggpvUAW3rMx"
      }
    },
    {
      "cell_type": "code",
      "source": [
        "#int - str,bool,float\n",
        "print(int(3.14), int(True), int(False), int('423432432412'))\n",
        "\n",
        "#str - int,bool,float\n",
        "print(str(3.14), str(True), str(False), str(3))\n",
        "\n",
        "#float- int, bool,str\n",
        "print(float(3), float(True), float(False), float('3'))\n",
        "\n",
        "#bool - int,float,str\n",
        "print(bool(3), bool(True), bool(False), bool('3'))\n",
        ""
      ],
      "metadata": {
        "colab": {
          "base_uri": "https://localhost:8080/"
        },
        "id": "mNzXZnxz3wI0",
        "outputId": "28f1a9ba-3d4c-4d38-9286-a4aa329482c1"
      },
      "execution_count": 7,
      "outputs": [
        {
          "output_type": "stream",
          "name": "stdout",
          "text": [
            "3 1 0 423432432412\n",
            "3.14 True False 3\n",
            "3.0 1.0 0.0 3.0\n",
            "True True False True\n"
          ]
        }
      ]
    },
    {
      "cell_type": "markdown",
      "source": [
        "**4. Conditionals**"
      ],
      "metadata": {
        "id": "ZgJzTf8a36V1"
      }
    },
    {
      "cell_type": "code",
      "source": [
        "age = 18\n",
        "\n",
        "if (age >= 18) and (age <= 100):\n",
        "  print('eligible')\n",
        "\n",
        "if (age >= 0) and (age <= 18):\n",
        "  print('not eligibl')\n",
        "\n",
        "if (age < 0) or (age > 100):\n",
        "  print('not a valid age')\n",
        ""
      ],
      "metadata": {
        "colab": {
          "base_uri": "https://localhost:8080/"
        },
        "id": "VoK4l6Mk4ATm",
        "outputId": "5786a41e-516d-497b-daa2-98cc7d31a03b"
      },
      "execution_count": 8,
      "outputs": [
        {
          "output_type": "stream",
          "name": "stdout",
          "text": [
            "eligible\n",
            "not eligibl\n"
          ]
        }
      ]
    },
    {
      "cell_type": "markdown",
      "source": [
        "elif"
      ],
      "metadata": {
        "id": "RtTpkqlL4HKS"
      }
    },
    {
      "cell_type": "code",
      "source": [
        "age = 18\n",
        "\n",
        "if (age >= 18) and (age <= 100):\n",
        "  print('eligible')\n",
        "\n",
        "elif (age >= 0) and (age <= 18):\n",
        "  print('not eligibl')\n",
        "\n",
        "else:\n",
        "  print('not a valid age')"
      ],
      "metadata": {
        "colab": {
          "base_uri": "https://localhost:8080/"
        },
        "id": "YA3DEIdq4Lrv",
        "outputId": "e331490a-7024-42e5-e55e-3fc497348748"
      },
      "execution_count": 9,
      "outputs": [
        {
          "output_type": "stream",
          "name": "stdout",
          "text": [
            "eligible\n"
          ]
        }
      ]
    },
    {
      "cell_type": "markdown",
      "source": [
        "multiple elif"
      ],
      "metadata": {
        "id": "LWyuu2X84TGV"
      }
    },
    {
      "cell_type": "code",
      "source": [
        "n = 35\n",
        "\n",
        "if (n%5 == 0) and (n%7 == 0):\n",
        "  print(\"5 and 7\")\n",
        "\n",
        "elif (n%5 == 0) and (n%7 != 0):\n",
        "  print(\"5 not 7\")\n",
        "\n",
        "elif (n%5 == 0) and (n%7 == 0):\n",
        "  print(\"7 not 5\")\n",
        "\n",
        "else:\n",
        "  print('not 5 not 7')\n",
        ""
      ],
      "metadata": {
        "colab": {
          "base_uri": "https://localhost:8080/"
        },
        "id": "ooCy92go4bHf",
        "outputId": "7750c6a0-bd19-42df-9aa4-2d2740542f64"
      },
      "execution_count": 10,
      "outputs": [
        {
          "output_type": "stream",
          "name": "stdout",
          "text": [
            "5 and 7\n"
          ]
        }
      ]
    },
    {
      "cell_type": "markdown",
      "source": [
        "nested else and elif"
      ],
      "metadata": {
        "id": "5_nvkZAB4hac"
      }
    },
    {
      "cell_type": "code",
      "source": [
        "n = 70\n",
        "\n",
        "if n%5 == 0:\n",
        "  if n%7 == 0:\n",
        "    print('5 and 7')\n",
        "  else:\n",
        "    print('5 not 7')\n",
        "\n",
        "elif n%7 == 0:\n",
        "  print('7 not 5')\n",
        "\n",
        "else:\n",
        "  print(\"not 7 not 5\")\n",
        ""
      ],
      "metadata": {
        "colab": {
          "base_uri": "https://localhost:8080/"
        },
        "id": "8gH3ShuC4kPG",
        "outputId": "c44415bf-aa52-4e0a-bef8-8e18fe1a05e8"
      },
      "execution_count": 11,
      "outputs": [
        {
          "output_type": "stream",
          "name": "stdout",
          "text": [
            "5 and 7\n"
          ]
        }
      ]
    },
    {
      "cell_type": "markdown",
      "source": [
        "**5. Loops**"
      ],
      "metadata": {
        "id": "SoOXUku64mG8"
      }
    },
    {
      "cell_type": "markdown",
      "source": [
        "for loop"
      ],
      "metadata": {
        "id": "52EPo0Us44UV"
      }
    },
    {
      "cell_type": "code",
      "source": [
        "n = 15\n",
        "\n",
        "for i in range(n,n*10 + 1,n):\n",
        "  print(i)\n",
        ""
      ],
      "metadata": {
        "colab": {
          "base_uri": "https://localhost:8080/"
        },
        "id": "bwD0fey04pAb",
        "outputId": "17c3a428-6236-47f1-e91e-aad169c76763"
      },
      "execution_count": 12,
      "outputs": [
        {
          "output_type": "stream",
          "name": "stdout",
          "text": [
            "15\n",
            "30\n",
            "45\n",
            "60\n",
            "75\n",
            "90\n",
            "105\n",
            "120\n",
            "135\n",
            "150\n"
          ]
        }
      ]
    },
    {
      "cell_type": "markdown",
      "source": [
        "for loop for reverse table"
      ],
      "metadata": {
        "id": "eXc_YBcO4svg"
      }
    },
    {
      "cell_type": "code",
      "source": [
        "n = 15\n",
        "\n",
        "for i in range(n*10,n-1,-n):\n",
        "  print(i)\n",
        ""
      ],
      "metadata": {
        "colab": {
          "base_uri": "https://localhost:8080/"
        },
        "id": "lmKCrzwF4z79",
        "outputId": "f8f7f8b6-b274-42cd-b172-6322deea2ef9"
      },
      "execution_count": 13,
      "outputs": [
        {
          "output_type": "stream",
          "name": "stdout",
          "text": [
            "150\n",
            "135\n",
            "120\n",
            "105\n",
            "90\n",
            "75\n",
            "60\n",
            "45\n",
            "30\n",
            "15\n"
          ]
        }
      ]
    },
    {
      "cell_type": "markdown",
      "source": [
        "for loop for printing table"
      ],
      "metadata": {
        "id": "XlQlhzh55BLm"
      }
    },
    {
      "cell_type": "code",
      "source": [
        "n = 17\n",
        "\n",
        "for i in range(1,11):\n",
        "  print(n ,'*', i,'=', n * i)\n",
        ""
      ],
      "metadata": {
        "colab": {
          "base_uri": "https://localhost:8080/"
        },
        "id": "euh26Q3u5XJu",
        "outputId": "8b13d5fe-2b8d-436e-ab2d-3fc12fb19943"
      },
      "execution_count": 14,
      "outputs": [
        {
          "output_type": "stream",
          "name": "stdout",
          "text": [
            "17 * 1 = 17\n",
            "17 * 2 = 34\n",
            "17 * 3 = 51\n",
            "17 * 4 = 68\n",
            "17 * 5 = 85\n",
            "17 * 6 = 102\n",
            "17 * 7 = 119\n",
            "17 * 8 = 136\n",
            "17 * 9 = 153\n",
            "17 * 10 = 170\n"
          ]
        }
      ]
    },
    {
      "cell_type": "markdown",
      "source": [
        "for loop for sum"
      ],
      "metadata": {
        "id": "qLPqQ-n75ZkN"
      }
    },
    {
      "cell_type": "code",
      "source": [
        "n = 1000\n",
        "s = 0\n",
        "\n",
        "for i in range(1,n+1):\n",
        "  s = s + i\n",
        "\n",
        "print(s)\n",
        ""
      ],
      "metadata": {
        "colab": {
          "base_uri": "https://localhost:8080/"
        },
        "id": "RdA-7tCR6GO3",
        "outputId": "574c38fd-8dfe-4a1f-b84f-218165b730e8"
      },
      "execution_count": 15,
      "outputs": [
        {
          "output_type": "stream",
          "name": "stdout",
          "text": [
            "500500\n"
          ]
        }
      ]
    },
    {
      "cell_type": "markdown",
      "source": [
        "Given three six-sided dice, calculate the probability (as a percentage) of the sum of the numbers on the three dice being equal to any given number from 3 to 18. The dice are rolled independently, and each die can land on any number from 1 to 6. The code below computes the probability for each sum. Explain what the code does and how it calculates the probability for each sum. Also, what is the purpose of dividing by 216 and rounding the result to two decimal places?"
      ],
      "metadata": {
        "id": "_3Lf_WVM6Ia1"
      }
    },
    {
      "cell_type": "code",
      "source": [
        "for num in range(3,19):\n",
        "\n",
        "  s = 0\n",
        "  for i in range(1,7):\n",
        "    for j in range(1,7):\n",
        "      for k in range(1,7):\n",
        "        if(i+j+k == num):\n",
        "          s += 1\n",
        "\n",
        "  print(round(s/216*100,2),\"%\")"
      ],
      "metadata": {
        "colab": {
          "base_uri": "https://localhost:8080/"
        },
        "id": "FWL_TiUH6c8U",
        "outputId": "911f85d2-7da5-4703-aa66-e61e9f6e02fd"
      },
      "execution_count": 16,
      "outputs": [
        {
          "output_type": "stream",
          "name": "stdout",
          "text": [
            "0.46 %\n",
            "1.39 %\n",
            "2.78 %\n",
            "4.63 %\n",
            "6.94 %\n",
            "9.72 %\n",
            "11.57 %\n",
            "12.5 %\n",
            "12.5 %\n",
            "11.57 %\n",
            "9.72 %\n",
            "6.94 %\n",
            "4.63 %\n",
            "2.78 %\n",
            "1.39 %\n",
            "0.46 %\n"
          ]
        }
      ]
    },
    {
      "cell_type": "markdown",
      "source": [
        "In the code below, we are simulating the sum of three six-sided dice being rolled. The goal is to calculate the probability (as a percentage) for each sum between 3 and 18.\n",
        "\n",
        "Explain the purpose of each part of the code and how it calculates the probabilities. Specifically, explain how the variable c is used to count the valid combinations for each sum and why the probability is calculated as c / 216 * 100."
      ],
      "metadata": {
        "id": "GQjNsCsA6jUJ"
      }
    },
    {
      "cell_type": "code",
      "source": [
        "for num in range(3,19):\n",
        "\n",
        "  c = 0\n",
        "\n",
        "  for i in range(1,7):\n",
        "    for j in range(1,7):\n",
        "      for k in range(1,7):\n",
        "        if i+j+k == num:\n",
        "          c += 1\n",
        "\n",
        "  print(num, round(((c/216)*100),2),'%')"
      ],
      "metadata": {
        "colab": {
          "base_uri": "https://localhost:8080/"
        },
        "id": "3o7_ryyd6sUg",
        "outputId": "282caefe-8ad7-4f9a-8ec7-864fc80a25ec"
      },
      "execution_count": 17,
      "outputs": [
        {
          "output_type": "stream",
          "name": "stdout",
          "text": [
            "3 0.46 %\n",
            "4 1.39 %\n",
            "5 2.78 %\n",
            "6 4.63 %\n",
            "7 6.94 %\n",
            "8 9.72 %\n",
            "9 11.57 %\n",
            "10 12.5 %\n",
            "11 12.5 %\n",
            "12 11.57 %\n",
            "13 9.72 %\n",
            "14 6.94 %\n",
            "15 4.63 %\n",
            "16 2.78 %\n",
            "17 1.39 %\n",
            "18 0.46 %\n"
          ]
        }
      ]
    },
    {
      "cell_type": "markdown",
      "source": [
        "Write a Python program that simulates the rolling of three six-sided dice. The program should generate and print all possible combinations of the dice rolls, displaying each combination as a set of three numbers (representing the dice values). After each set of combinations for the third die, print a line of dashes (----------) to separate them. After each set of combinations for the second die, print a line of asterisks (**********) to separate them."
      ],
      "metadata": {
        "id": "uXnYivAY6wUW"
      }
    },
    {
      "cell_type": "code",
      "source": [
        "for i in range(1,7):\n",
        "  for j in range(1,7):\n",
        "    for k in range(1,7):\n",
        "      print(i,j,k)\n",
        "    print('-'*10)\n",
        "  print('*'*10)\n",
        ""
      ],
      "metadata": {
        "colab": {
          "base_uri": "https://localhost:8080/"
        },
        "id": "F8uFer-87G46",
        "outputId": "2a0fbc7f-c675-4810-bd3c-46e5d1dce993"
      },
      "execution_count": 18,
      "outputs": [
        {
          "output_type": "stream",
          "name": "stdout",
          "text": [
            "1 1 1\n",
            "1 1 2\n",
            "1 1 3\n",
            "1 1 4\n",
            "1 1 5\n",
            "1 1 6\n",
            "----------\n",
            "1 2 1\n",
            "1 2 2\n",
            "1 2 3\n",
            "1 2 4\n",
            "1 2 5\n",
            "1 2 6\n",
            "----------\n",
            "1 3 1\n",
            "1 3 2\n",
            "1 3 3\n",
            "1 3 4\n",
            "1 3 5\n",
            "1 3 6\n",
            "----------\n",
            "1 4 1\n",
            "1 4 2\n",
            "1 4 3\n",
            "1 4 4\n",
            "1 4 5\n",
            "1 4 6\n",
            "----------\n",
            "1 5 1\n",
            "1 5 2\n",
            "1 5 3\n",
            "1 5 4\n",
            "1 5 5\n",
            "1 5 6\n",
            "----------\n",
            "1 6 1\n",
            "1 6 2\n",
            "1 6 3\n",
            "1 6 4\n",
            "1 6 5\n",
            "1 6 6\n",
            "----------\n",
            "**********\n",
            "2 1 1\n",
            "2 1 2\n",
            "2 1 3\n",
            "2 1 4\n",
            "2 1 5\n",
            "2 1 6\n",
            "----------\n",
            "2 2 1\n",
            "2 2 2\n",
            "2 2 3\n",
            "2 2 4\n",
            "2 2 5\n",
            "2 2 6\n",
            "----------\n",
            "2 3 1\n",
            "2 3 2\n",
            "2 3 3\n",
            "2 3 4\n",
            "2 3 5\n",
            "2 3 6\n",
            "----------\n",
            "2 4 1\n",
            "2 4 2\n",
            "2 4 3\n",
            "2 4 4\n",
            "2 4 5\n",
            "2 4 6\n",
            "----------\n",
            "2 5 1\n",
            "2 5 2\n",
            "2 5 3\n",
            "2 5 4\n",
            "2 5 5\n",
            "2 5 6\n",
            "----------\n",
            "2 6 1\n",
            "2 6 2\n",
            "2 6 3\n",
            "2 6 4\n",
            "2 6 5\n",
            "2 6 6\n",
            "----------\n",
            "**********\n",
            "3 1 1\n",
            "3 1 2\n",
            "3 1 3\n",
            "3 1 4\n",
            "3 1 5\n",
            "3 1 6\n",
            "----------\n",
            "3 2 1\n",
            "3 2 2\n",
            "3 2 3\n",
            "3 2 4\n",
            "3 2 5\n",
            "3 2 6\n",
            "----------\n",
            "3 3 1\n",
            "3 3 2\n",
            "3 3 3\n",
            "3 3 4\n",
            "3 3 5\n",
            "3 3 6\n",
            "----------\n",
            "3 4 1\n",
            "3 4 2\n",
            "3 4 3\n",
            "3 4 4\n",
            "3 4 5\n",
            "3 4 6\n",
            "----------\n",
            "3 5 1\n",
            "3 5 2\n",
            "3 5 3\n",
            "3 5 4\n",
            "3 5 5\n",
            "3 5 6\n",
            "----------\n",
            "3 6 1\n",
            "3 6 2\n",
            "3 6 3\n",
            "3 6 4\n",
            "3 6 5\n",
            "3 6 6\n",
            "----------\n",
            "**********\n",
            "4 1 1\n",
            "4 1 2\n",
            "4 1 3\n",
            "4 1 4\n",
            "4 1 5\n",
            "4 1 6\n",
            "----------\n",
            "4 2 1\n",
            "4 2 2\n",
            "4 2 3\n",
            "4 2 4\n",
            "4 2 5\n",
            "4 2 6\n",
            "----------\n",
            "4 3 1\n",
            "4 3 2\n",
            "4 3 3\n",
            "4 3 4\n",
            "4 3 5\n",
            "4 3 6\n",
            "----------\n",
            "4 4 1\n",
            "4 4 2\n",
            "4 4 3\n",
            "4 4 4\n",
            "4 4 5\n",
            "4 4 6\n",
            "----------\n",
            "4 5 1\n",
            "4 5 2\n",
            "4 5 3\n",
            "4 5 4\n",
            "4 5 5\n",
            "4 5 6\n",
            "----------\n",
            "4 6 1\n",
            "4 6 2\n",
            "4 6 3\n",
            "4 6 4\n",
            "4 6 5\n",
            "4 6 6\n",
            "----------\n",
            "**********\n",
            "5 1 1\n",
            "5 1 2\n",
            "5 1 3\n",
            "5 1 4\n",
            "5 1 5\n",
            "5 1 6\n",
            "----------\n",
            "5 2 1\n",
            "5 2 2\n",
            "5 2 3\n",
            "5 2 4\n",
            "5 2 5\n",
            "5 2 6\n",
            "----------\n",
            "5 3 1\n",
            "5 3 2\n",
            "5 3 3\n",
            "5 3 4\n",
            "5 3 5\n",
            "5 3 6\n",
            "----------\n",
            "5 4 1\n",
            "5 4 2\n",
            "5 4 3\n",
            "5 4 4\n",
            "5 4 5\n",
            "5 4 6\n",
            "----------\n",
            "5 5 1\n",
            "5 5 2\n",
            "5 5 3\n",
            "5 5 4\n",
            "5 5 5\n",
            "5 5 6\n",
            "----------\n",
            "5 6 1\n",
            "5 6 2\n",
            "5 6 3\n",
            "5 6 4\n",
            "5 6 5\n",
            "5 6 6\n",
            "----------\n",
            "**********\n",
            "6 1 1\n",
            "6 1 2\n",
            "6 1 3\n",
            "6 1 4\n",
            "6 1 5\n",
            "6 1 6\n",
            "----------\n",
            "6 2 1\n",
            "6 2 2\n",
            "6 2 3\n",
            "6 2 4\n",
            "6 2 5\n",
            "6 2 6\n",
            "----------\n",
            "6 3 1\n",
            "6 3 2\n",
            "6 3 3\n",
            "6 3 4\n",
            "6 3 5\n",
            "6 3 6\n",
            "----------\n",
            "6 4 1\n",
            "6 4 2\n",
            "6 4 3\n",
            "6 4 4\n",
            "6 4 5\n",
            "6 4 6\n",
            "----------\n",
            "6 5 1\n",
            "6 5 2\n",
            "6 5 3\n",
            "6 5 4\n",
            "6 5 5\n",
            "6 5 6\n",
            "----------\n",
            "6 6 1\n",
            "6 6 2\n",
            "6 6 3\n",
            "6 6 4\n",
            "6 6 5\n",
            "6 6 6\n",
            "----------\n",
            "**********\n"
          ]
        }
      ]
    },
    {
      "cell_type": "markdown",
      "source": [
        "**6. Data Structures (List)**"
      ],
      "metadata": {
        "id": "NUmY4trq7RmQ"
      }
    },
    {
      "cell_type": "markdown",
      "source": [
        "Write a Python program that creates a list of all even numbers between 2 and 1000 (inclusive) that are divisible by both 7 and 5. The program should print the list of these numbers at the end"
      ],
      "metadata": {
        "id": "KQC8V_6F7r-m"
      }
    },
    {
      "cell_type": "code",
      "source": [
        "lst = []\n",
        "\n",
        "for i in range(2,1001,2):\n",
        "  if(i%7 == 0) and (i%5 == 0):\n",
        "    lst.append(i)\n",
        "\n",
        "print(lst)"
      ],
      "metadata": {
        "colab": {
          "base_uri": "https://localhost:8080/"
        },
        "id": "eaE-B0OR7apc",
        "outputId": "54add730-ce6b-4e03-ac99-75a21c016614"
      },
      "execution_count": 19,
      "outputs": [
        {
          "output_type": "stream",
          "name": "stdout",
          "text": [
            "[70, 140, 210, 280, 350, 420, 490, 560, 630, 700, 770, 840, 910, 980]\n"
          ]
        }
      ]
    },
    {
      "cell_type": "markdown",
      "source": [
        "Write a Python program to find and count all prime numbers between 2 and 1000 (inclusive). The program should iterate through the numbers in this range, check whether each number is divisible by any number other than 1 and itself, and keep a count of how many prime numbers exist in this range. Finally, the program should print the total count of prime numbers."
      ],
      "metadata": {
        "id": "2K8kDqhF78GJ"
      }
    },
    {
      "cell_type": "code",
      "source": [
        "primes = []\n",
        "\n",
        "\n",
        "for n in range(2,1001):\n",
        "\n",
        "  c = 0\n",
        "\n",
        "  for i in range(2,n):\n",
        "    if n%i == 0:\n",
        "      c += 1\n",
        "\n",
        "  if c == 0:\n",
        "    primes.append(n)\n",
        "\n",
        "print(len(primes))"
      ],
      "metadata": {
        "colab": {
          "base_uri": "https://localhost:8080/"
        },
        "id": "1oD0lr1479Wv",
        "outputId": "ecbe5015-9da3-4f8e-c7ce-a454b4a204f5"
      },
      "execution_count": 20,
      "outputs": [
        {
          "output_type": "stream",
          "name": "stdout",
          "text": [
            "168\n"
          ]
        }
      ]
    },
    {
      "cell_type": "markdown",
      "source": [
        "Write a Python program that processes a list of numbers and creates a new list containing the squares of all numbers that are greater than or equal to 50. Given the list of numbers:\n",
        "\n",
        "python\n",
        "Copy\n",
        "lst = [34, 54, 34, 54, 35, 54, 34, 54]"
      ],
      "metadata": {
        "id": "TWK6MlWs8C_C"
      }
    },
    {
      "cell_type": "code",
      "source": [
        "lst = [34,54,34,54,35,54,34,54]\n",
        "clean_lst = []\n",
        "\n",
        "for i in range(len(lst)):\n",
        "  if lst[i] >= 50:\n",
        "    clean_lst.append(lst[i]**2)\n",
        "\n",
        "print(clean_lst)"
      ],
      "metadata": {
        "colab": {
          "base_uri": "https://localhost:8080/"
        },
        "id": "jJEhzhtb8PVw",
        "outputId": "599c7fd0-588f-41ca-9936-ef337abc4770"
      },
      "execution_count": 21,
      "outputs": [
        {
          "output_type": "stream",
          "name": "stdout",
          "text": [
            "[2916, 2916, 2916, 2916]\n"
          ]
        }
      ]
    },
    {
      "cell_type": "markdown",
      "source": [
        "Write a Python program that takes a 2D list (matrix) and computes a specific sum based on the following conditions:\n",
        "\n",
        "Sum the elements along the diagonal (from top-left to bottom-right).\n",
        "\n",
        "Sum the elements along the anti-diagonal (from top-right to bottom-left).\n",
        "\n",
        "If the matrix has an odd number of rows and columns, subtract the middle element (which appears in both the diagonal and anti-diagonal) from the sum.\n",
        "\n",
        "Given the matrix:\n",
        "\n",
        "python\n",
        "Copy\n",
        "lst = [\n",
        "    [1, 2, 3],\n",
        "    [4, 5, 6],\n",
        "    [7, 8, 9]\n",
        "]\n",
        "The program should compute and print the sum as described above."
      ],
      "metadata": {
        "id": "mxDn5vaf8X3P"
      }
    },
    {
      "cell_type": "code",
      "source": [
        "s = 0\n",
        "\n",
        "lst = [ [1,2,3],\n",
        "        [4,5,6],\n",
        "        [7,8,9]]\n",
        "\n",
        "for i in range(0,len(lst)):\n",
        "  for j in range(0,len(lst)):\n",
        "    if (i+j == len(lst)-1) or (i==j):\n",
        "      s = s + lst[i][j]\n",
        "\n",
        "\n",
        "if len(lst)%2 == 0:\n",
        "  print(s)\n",
        "else:\n",
        "  print(s - lst[len(lst)//2][len(lst)//2])"
      ],
      "metadata": {
        "colab": {
          "base_uri": "https://localhost:8080/"
        },
        "id": "6_uMFSR98hq_",
        "outputId": "664cae1c-fc56-4502-c110-fec6de487305"
      },
      "execution_count": 22,
      "outputs": [
        {
          "output_type": "stream",
          "name": "stdout",
          "text": [
            "20\n"
          ]
        }
      ]
    },
    {
      "cell_type": "markdown",
      "source": [
        "**7. Dictionaries**"
      ],
      "metadata": {
        "id": "vUmFA6TC8nSy"
      }
    },
    {
      "cell_type": "code",
      "source": [
        "dct = {}\n",
        "\n",
        "for roll_no in range(1,6):\n",
        "  name = input('Enter the name of roll no. ' + str(roll_no) + ' : ')\n",
        "  dct[roll_no] = name\n",
        "\n",
        "print(dct)\n",
        ""
      ],
      "metadata": {
        "colab": {
          "base_uri": "https://localhost:8080/"
        },
        "id": "4hXDkgq_8sht",
        "outputId": "f82bb043-ac39-4950-aadb-fb816dd25c4e"
      },
      "execution_count": 23,
      "outputs": [
        {
          "output_type": "stream",
          "name": "stdout",
          "text": [
            "Enter the name of roll no. 1 : Bhawna\n",
            "Enter the name of roll no. 2 : Deepali\n",
            "Enter the name of roll no. 3 : Deepu\n",
            "Enter the name of roll no. 4 : Tarun\n",
            "Enter the name of roll no. 5 : Honey\n",
            "{1: 'Bhawna', 2: 'Deepali', 3: 'Deepu', 4: 'Tarun', 5: 'Honey'}\n"
          ]
        }
      ]
    },
    {
      "cell_type": "code",
      "source": [
        "dct[3] = 'Deepu'"
      ],
      "metadata": {
        "id": "pD7Uiasz9BvJ"
      },
      "execution_count": 26,
      "outputs": []
    },
    {
      "cell_type": "code",
      "source": [
        "print(dct)"
      ],
      "metadata": {
        "colab": {
          "base_uri": "https://localhost:8080/"
        },
        "id": "GduqQkmP9S1d",
        "outputId": "15efc895-506d-4de4-b50a-f0bb4e96bc65"
      },
      "execution_count": 27,
      "outputs": [
        {
          "output_type": "stream",
          "name": "stdout",
          "text": [
            "{1: 'Bhawna', 2: 'Deepali', 3: 'Deepu', 4: 'Tarun', 5: 'Honey'}\n"
          ]
        }
      ]
    },
    {
      "cell_type": "markdown",
      "source": [
        "You are given a dictionary containing student information, including their marks in various subjects. Write a Python program that:\n",
        "\n",
        "Iterates through the dictionary and calculates the total marks for each student by summing the marks of all subjects.\n",
        "\n",
        "Calculates the average marks for each student by dividing the total marks by the number of subjects.\n",
        "\n",
        "Prints the total marks and average marks for each student in the following format:\n",
        "\n",
        "php-template\n",
        "Copy\n",
        "Roll No       : <roll_no>\n",
        "Name          : <name>\n",
        "Total Marks   : <total_marks>\n",
        "Average Marks : <average_marks>\n",
        "-------------------------\n",
        "The provided dictionary is:\n",
        "\n",
        "python\n",
        "Copy\n",
        "data = {\n",
        "    1: {'name': 'Bhawna', 'phone': 431432513, 'address': 'Noida', 'marks': {'hindi': 34, 'english': 53, 'maths': 53, 'punjabi': 43} },\n",
        "    2: {'name': 'Manish', 'phone': 431432513, 'address': 'Noida', 'marks': {'hindi': 30, 'english': 23, 'maths': 83} },\n",
        "    3: {'name': 'Mohan', 'phone': 431432513, 'address': 'Noida', 'marks': {'hindi': 43, 'english': 78, 'maths': 15}},\n",
        "    4: {'name': 'Sohan', 'phone': 9876543210, 'address': 'Delhi', 'marks': {'hindi': 78, 'english': 65, 'maths': 92}},\n",
        "}"
      ],
      "metadata": {
        "id": "Bb_C2-FO9uni"
      }
    },
    {
      "cell_type": "code",
      "source": [
        "data = {\n",
        "    1: {'name': 'Bhawna', 'phone': 431432513, 'address': 'Noida', 'marks': {'hindi': 34, 'english': 53, 'maths': 53,'punjabi' : 43} },\n",
        "    2: {'name': 'Manish', 'phone': 431432513, 'address': 'Noida', 'marks': {'hindi': 30, 'english': 23, 'maths': 83} },\n",
        "    3: {'name': 'Mohan', 'phone': 431432513, 'address': 'Noida', 'marks': {'hindi': 43, 'english': 78, 'maths': 15}},\n",
        "    4: {'name': 'Sohan', 'phone': 9876543210, 'address': 'Delhi', 'marks': {'hindi': 78, 'english': 65, 'maths': 92}},\n",
        "}\n",
        "\n",
        "for roll_no in data.keys():\n",
        "\n",
        "  total_marks = sum(list(data[roll_no]['marks'].values()))\n",
        "  total_exams = len(data[roll_no]['marks'].values())\n",
        "\n",
        "  print(total_marks)\n"
      ],
      "metadata": {
        "colab": {
          "base_uri": "https://localhost:8080/"
        },
        "id": "DMSPOALD9134",
        "outputId": "e7146768-86b1-4fa4-cff3-97d028ebfd50"
      },
      "execution_count": 29,
      "outputs": [
        {
          "output_type": "stream",
          "name": "stdout",
          "text": [
            "183\n",
            "136\n",
            "136\n",
            "235\n"
          ]
        }
      ]
    },
    {
      "cell_type": "markdown",
      "source": [
        "You are provided with a dictionary containing student information, including their marks in various subjects. Write a Python program that:\n",
        "\n",
        "Calculates the total marks and average marks for each student.\n",
        "\n",
        "Assigns a grade to each student based on the following criteria:\n",
        "\n",
        "'A' for an average of 90 or above\n",
        "\n",
        "'B' for an average between 80 and 89\n",
        "\n",
        "'C' for an average between 70 and 79\n",
        "\n",
        "'D' for an average between 60 and 69\n",
        "\n",
        "'F' for an average below 60\n",
        "\n",
        "Updates the dictionary to include the average and grade for each student."
      ],
      "metadata": {
        "id": "-mGRVsOE99fI"
      }
    },
    {
      "cell_type": "code",
      "source": [
        "data =  { 1: {'name': 'Bhawna', 'phone': 431432513, 'address': 'Noida', 'marks': {'hindi': 34, 'english': 53, 'maths': 53,'punjabi' : 43} },\n",
        "          2: {'name': 'Manish', 'phone': 431432513, 'address': 'Noida', 'marks': {'hindi': 30, 'english': 23, 'maths': 83} },\n",
        "          3: {'name': 'Mohan', 'phone': 431432513, 'address': 'Noida', 'marks': {'hindi': 43, 'english': 78, 'maths': 15}},\n",
        "          4: {'name': 'Sohan', 'phone': 9876543210, 'address': 'Delhi', 'marks': {'hindi': 78, 'english': 65, 'maths': 92}}}\n",
        "\n",
        "for roll_no in data.keys():\n",
        "  total_marks = sum(list(data[roll_no]['marks'].values()))\n",
        "  total_exams = len(data[roll_no]['marks'].values())\n",
        "  average = round(total_marks/total_exams,2)\n",
        "\n",
        "  if average >= 90:\n",
        "    grade = 'A'\n",
        "  elif average >= 80:\n",
        "    grade = 'B'\n",
        "  elif average >= 70:\n",
        "    grade = 'C'\n",
        "  elif average >= 60:\n",
        "    grade = 'D'\n",
        "  else:\n",
        "    grade = 'f'\n",
        "\n",
        "  data[roll_no]['average'] = average\n",
        "  data[roll_no]['grade'] = grade"
      ],
      "metadata": {
        "id": "GsNVBCdU-I5_"
      },
      "execution_count": 33,
      "outputs": []
    },
    {
      "cell_type": "code",
      "source": [
        "data"
      ],
      "metadata": {
        "colab": {
          "base_uri": "https://localhost:8080/"
        },
        "id": "GO8clZhs-hdd",
        "outputId": "60783b3f-23b1-49dc-ccd9-ea6a8bff8794"
      },
      "execution_count": 34,
      "outputs": [
        {
          "output_type": "execute_result",
          "data": {
            "text/plain": [
              "{1: {'name': 'Bhawna',\n",
              "  'phone': 431432513,\n",
              "  'address': 'Noida',\n",
              "  'marks': {'hindi': 34, 'english': 53, 'maths': 53, 'punjabi': 43},\n",
              "  'average': 45.75,\n",
              "  'grade': 'f'},\n",
              " 2: {'name': 'Manish',\n",
              "  'phone': 431432513,\n",
              "  'address': 'Noida',\n",
              "  'marks': {'hindi': 30, 'english': 23, 'maths': 83},\n",
              "  'average': 45.33,\n",
              "  'grade': 'f'},\n",
              " 3: {'name': 'Mohan',\n",
              "  'phone': 431432513,\n",
              "  'address': 'Noida',\n",
              "  'marks': {'hindi': 43, 'english': 78, 'maths': 15},\n",
              "  'average': 45.33,\n",
              "  'grade': 'f'},\n",
              " 4: {'name': 'Sohan',\n",
              "  'phone': 9876543210,\n",
              "  'address': 'Delhi',\n",
              "  'marks': {'hindi': 78, 'english': 65, 'maths': 92},\n",
              "  'average': 78.33,\n",
              "  'grade': 'C'}}"
            ]
          },
          "metadata": {},
          "execution_count": 34
        }
      ]
    },
    {
      "cell_type": "code",
      "source": [
        "data[1]"
      ],
      "metadata": {
        "colab": {
          "base_uri": "https://localhost:8080/"
        },
        "id": "SqC8BBAd-knp",
        "outputId": "1fbbc198-90a1-4c0a-92f8-48eac7c2b8fb"
      },
      "execution_count": 35,
      "outputs": [
        {
          "output_type": "execute_result",
          "data": {
            "text/plain": [
              "{'name': 'Bhawna',\n",
              " 'phone': 431432513,\n",
              " 'address': 'Noida',\n",
              " 'marks': {'hindi': 34, 'english': 53, 'maths': 53, 'punjabi': 43},\n",
              " 'average': 45.75,\n",
              " 'grade': 'f'}"
            ]
          },
          "metadata": {},
          "execution_count": 35
        }
      ]
    },
    {
      "cell_type": "code",
      "source": [],
      "metadata": {
        "id": "fSnwEZ4m_Z86"
      },
      "execution_count": null,
      "outputs": []
    }
  ]
}